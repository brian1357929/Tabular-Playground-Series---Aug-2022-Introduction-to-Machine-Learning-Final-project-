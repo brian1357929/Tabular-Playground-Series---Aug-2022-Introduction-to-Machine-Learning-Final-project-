{
  "metadata": {
    "kernelspec": {
      "language": "python",
      "display_name": "Python 3",
      "name": "python3"
    },
    "language_info": {
      "name": "python",
      "version": "3.7.12",
      "mimetype": "text/x-python",
      "codemirror_mode": {
        "name": "ipython",
        "version": 3
      },
      "pygments_lexer": "ipython3",
      "nbconvert_exporter": "python",
      "file_extension": ".py"
    },
    "colab": {
      "provenance": []
    }
  },
  "nbformat_minor": 0,
  "nbformat": 4,
  "cells": [
    {
      "cell_type": "markdown",
      "source": [
        "# Parameter Tuning"
      ],
      "metadata": {
        "papermill": {
          "duration": 0.004862,
          "end_time": "2022-08-02T01:01:02.713911",
          "exception": false,
          "start_time": "2022-08-02T01:01:02.709049",
          "status": "completed"
        },
        "tags": [],
        "pycharm": {
          "name": "#%% md\n"
        },
        "id": "-_KVFZlkDgf3"
      }
    },
    {
      "cell_type": "code",
      "source": [
        "!pip install category-encoders\n",
        "!pip install optuna"
      ],
      "metadata": {
        "colab": {
          "base_uri": "https://localhost:8080/"
        },
        "id": "_nOC7l8LE7X_",
        "outputId": "c1c7c502-068f-45d0-ee71-b367ca3286dc"
      },
      "execution_count": 1,
      "outputs": [
        {
          "output_type": "stream",
          "name": "stdout",
          "text": [
            "Looking in indexes: https://pypi.org/simple, https://us-python.pkg.dev/colab-wheels/public/simple/\n",
            "Collecting category-encoders\n",
            "  Downloading category_encoders-2.5.1.post0-py2.py3-none-any.whl (72 kB)\n",
            "\u001b[?25l     \u001b[90m━━━━━━━━━━━━━━━━━━━━━━━━━━━━━━━━━━━━━━━━\u001b[0m \u001b[32m0.0/72.4 KB\u001b[0m \u001b[31m?\u001b[0m eta \u001b[36m-:--:--\u001b[0m\r\u001b[2K     \u001b[90m━━━━━━━━━━━━━━━━━━━━━━━━━━━━━━━━━━━━━━━━\u001b[0m \u001b[32m72.4/72.4 KB\u001b[0m \u001b[31m3.4 MB/s\u001b[0m eta \u001b[36m0:00:00\u001b[0m\n",
            "\u001b[?25hRequirement already satisfied: patsy>=0.5.1 in /usr/local/lib/python3.8/dist-packages (from category-encoders) (0.5.3)\n",
            "Requirement already satisfied: pandas>=1.0.5 in /usr/local/lib/python3.8/dist-packages (from category-encoders) (1.3.5)\n",
            "Requirement already satisfied: scikit-learn>=0.20.0 in /usr/local/lib/python3.8/dist-packages (from category-encoders) (1.0.2)\n",
            "Requirement already satisfied: statsmodels>=0.9.0 in /usr/local/lib/python3.8/dist-packages (from category-encoders) (0.12.2)\n",
            "Requirement already satisfied: scipy>=1.0.0 in /usr/local/lib/python3.8/dist-packages (from category-encoders) (1.7.3)\n",
            "Requirement already satisfied: numpy>=1.14.0 in /usr/local/lib/python3.8/dist-packages (from category-encoders) (1.21.6)\n",
            "Requirement already satisfied: pytz>=2017.3 in /usr/local/lib/python3.8/dist-packages (from pandas>=1.0.5->category-encoders) (2022.7)\n",
            "Requirement already satisfied: python-dateutil>=2.7.3 in /usr/local/lib/python3.8/dist-packages (from pandas>=1.0.5->category-encoders) (2.8.2)\n",
            "Requirement already satisfied: six in /usr/local/lib/python3.8/dist-packages (from patsy>=0.5.1->category-encoders) (1.15.0)\n",
            "Requirement already satisfied: joblib>=0.11 in /usr/local/lib/python3.8/dist-packages (from scikit-learn>=0.20.0->category-encoders) (1.2.0)\n",
            "Requirement already satisfied: threadpoolctl>=2.0.0 in /usr/local/lib/python3.8/dist-packages (from scikit-learn>=0.20.0->category-encoders) (3.1.0)\n",
            "Installing collected packages: category-encoders\n",
            "Successfully installed category-encoders-2.5.1.post0\n",
            "Looking in indexes: https://pypi.org/simple, https://us-python.pkg.dev/colab-wheels/public/simple/\n",
            "Collecting optuna\n",
            "  Downloading optuna-3.0.5-py3-none-any.whl (348 kB)\n",
            "\u001b[2K     \u001b[90m━━━━━━━━━━━━━━━━━━━━━━━━━━━━━━━━━━━━━━━\u001b[0m \u001b[32m348.5/348.5 KB\u001b[0m \u001b[31m5.8 MB/s\u001b[0m eta \u001b[36m0:00:00\u001b[0m\n",
            "\u001b[?25hRequirement already satisfied: sqlalchemy>=1.3.0 in /usr/local/lib/python3.8/dist-packages (from optuna) (1.4.45)\n",
            "Requirement already satisfied: packaging>=20.0 in /usr/local/lib/python3.8/dist-packages (from optuna) (21.3)\n",
            "Collecting importlib-metadata<5.0.0\n",
            "  Downloading importlib_metadata-4.13.0-py3-none-any.whl (23 kB)\n",
            "Collecting cmaes>=0.8.2\n",
            "  Downloading cmaes-0.9.1-py3-none-any.whl (21 kB)\n",
            "Requirement already satisfied: scipy<1.9.0,>=1.7.0 in /usr/local/lib/python3.8/dist-packages (from optuna) (1.7.3)\n",
            "Requirement already satisfied: numpy in /usr/local/lib/python3.8/dist-packages (from optuna) (1.21.6)\n",
            "Collecting alembic>=1.5.0\n",
            "  Downloading alembic-1.9.1-py3-none-any.whl (210 kB)\n",
            "\u001b[2K     \u001b[90m━━━━━━━━━━━━━━━━━━━━━━━━━━━━━━━━━━━━━━\u001b[0m \u001b[32m210.4/210.4 KB\u001b[0m \u001b[31m23.4 MB/s\u001b[0m eta \u001b[36m0:00:00\u001b[0m\n",
            "\u001b[?25hRequirement already satisfied: tqdm in /usr/local/lib/python3.8/dist-packages (from optuna) (4.64.1)\n",
            "Collecting colorlog\n",
            "  Downloading colorlog-6.7.0-py2.py3-none-any.whl (11 kB)\n",
            "Requirement already satisfied: PyYAML in /usr/local/lib/python3.8/dist-packages (from optuna) (6.0)\n",
            "Collecting cliff\n",
            "  Downloading cliff-4.1.0-py3-none-any.whl (81 kB)\n",
            "\u001b[2K     \u001b[90m━━━━━━━━━━━━━━━━━━━━━━━━━━━━━━━━━━━━━━━━\u001b[0m \u001b[32m81.0/81.0 KB\u001b[0m \u001b[31m9.1 MB/s\u001b[0m eta \u001b[36m0:00:00\u001b[0m\n",
            "\u001b[?25hCollecting Mako\n",
            "  Downloading Mako-1.2.4-py3-none-any.whl (78 kB)\n",
            "\u001b[2K     \u001b[90m━━━━━━━━━━━━━━━━━━━━━━━━━━━━━━━━━━━━━━━━\u001b[0m \u001b[32m78.7/78.7 KB\u001b[0m \u001b[31m8.9 MB/s\u001b[0m eta \u001b[36m0:00:00\u001b[0m\n",
            "\u001b[?25hRequirement already satisfied: importlib-resources in /usr/local/lib/python3.8/dist-packages (from alembic>=1.5.0->optuna) (5.10.1)\n",
            "Requirement already satisfied: zipp>=0.5 in /usr/local/lib/python3.8/dist-packages (from importlib-metadata<5.0.0->optuna) (3.11.0)\n",
            "Requirement already satisfied: pyparsing!=3.0.5,>=2.0.2 in /usr/local/lib/python3.8/dist-packages (from packaging>=20.0->optuna) (3.0.9)\n",
            "Requirement already satisfied: greenlet!=0.4.17 in /usr/local/lib/python3.8/dist-packages (from sqlalchemy>=1.3.0->optuna) (2.0.1)\n",
            "Collecting cmd2>=1.0.0\n",
            "  Downloading cmd2-2.4.2-py3-none-any.whl (147 kB)\n",
            "\u001b[2K     \u001b[90m━━━━━━━━━━━━━━━━━━━━━━━━━━━━━━━━━━━━━━\u001b[0m \u001b[32m147.1/147.1 KB\u001b[0m \u001b[31m12.5 MB/s\u001b[0m eta \u001b[36m0:00:00\u001b[0m\n",
            "\u001b[?25hCollecting autopage>=0.4.0\n",
            "  Downloading autopage-0.5.1-py3-none-any.whl (29 kB)\n",
            "Requirement already satisfied: PrettyTable>=0.7.2 in /usr/local/lib/python3.8/dist-packages (from cliff->optuna) (3.5.0)\n",
            "Collecting stevedore>=2.0.1\n",
            "  Downloading stevedore-4.1.1-py3-none-any.whl (50 kB)\n",
            "\u001b[2K     \u001b[90m━━━━━━━━━━━━━━━━━━━━━━━━━━━━━━━━━━━━━━━━\u001b[0m \u001b[32m50.0/50.0 KB\u001b[0m \u001b[31m5.0 MB/s\u001b[0m eta \u001b[36m0:00:00\u001b[0m\n",
            "\u001b[?25hCollecting pyperclip>=1.6\n",
            "  Downloading pyperclip-1.8.2.tar.gz (20 kB)\n",
            "  Preparing metadata (setup.py) ... \u001b[?25l\u001b[?25hdone\n",
            "Requirement already satisfied: wcwidth>=0.1.7 in /usr/local/lib/python3.8/dist-packages (from cmd2>=1.0.0->cliff->optuna) (0.2.5)\n",
            "Requirement already satisfied: attrs>=16.3.0 in /usr/local/lib/python3.8/dist-packages (from cmd2>=1.0.0->cliff->optuna) (22.2.0)\n",
            "Collecting pbr!=2.1.0,>=2.0.0\n",
            "  Downloading pbr-5.11.0-py2.py3-none-any.whl (112 kB)\n",
            "\u001b[2K     \u001b[90m━━━━━━━━━━━━━━━━━━━━━━━━━━━━━━━━━━━━━━\u001b[0m \u001b[32m112.6/112.6 KB\u001b[0m \u001b[31m11.0 MB/s\u001b[0m eta \u001b[36m0:00:00\u001b[0m\n",
            "\u001b[?25hRequirement already satisfied: MarkupSafe>=0.9.2 in /usr/local/lib/python3.8/dist-packages (from Mako->alembic>=1.5.0->optuna) (2.0.1)\n",
            "Building wheels for collected packages: pyperclip\n",
            "  Building wheel for pyperclip (setup.py) ... \u001b[?25l\u001b[?25hdone\n",
            "  Created wheel for pyperclip: filename=pyperclip-1.8.2-py3-none-any.whl size=11136 sha256=789ea3d380bfdff128f13fa6eec34f7622c229cdac4c231f894ab51b584a3076\n",
            "  Stored in directory: /root/.cache/pip/wheels/7f/1a/65/84ff8c386bec21fca6d220ea1f5498a0367883a78dd5ba6122\n",
            "Successfully built pyperclip\n",
            "Installing collected packages: pyperclip, pbr, Mako, importlib-metadata, colorlog, cmd2, cmaes, autopage, stevedore, alembic, cliff, optuna\n",
            "  Attempting uninstall: importlib-metadata\n",
            "    Found existing installation: importlib-metadata 5.2.0\n",
            "    Uninstalling importlib-metadata-5.2.0:\n",
            "      Successfully uninstalled importlib-metadata-5.2.0\n",
            "Successfully installed Mako-1.2.4 alembic-1.9.1 autopage-0.5.1 cliff-4.1.0 cmaes-0.9.1 cmd2-2.4.2 colorlog-6.7.0 importlib-metadata-4.13.0 optuna-3.0.5 pbr-5.11.0 pyperclip-1.8.2 stevedore-4.1.1\n"
          ]
        }
      ]
    },
    {
      "cell_type": "code",
      "source": [
        "# Global variables\n",
        "RANDOM_SEED = 153\n",
        "NUM_TRIALS = 100"
      ],
      "metadata": {
        "execution": {
          "iopub.status.busy": "2023-01-07T11:25:42.670410Z",
          "iopub.execute_input": "2023-01-07T11:25:42.671087Z",
          "iopub.status.idle": "2023-01-07T11:25:42.700837Z",
          "shell.execute_reply.started": "2023-01-07T11:25:42.670982Z",
          "shell.execute_reply": "2023-01-07T11:25:42.700068Z"
        },
        "trusted": true,
        "id": "iwxn-ZXZDgf8"
      },
      "execution_count": 2,
      "outputs": []
    },
    {
      "cell_type": "code",
      "source": [
        "# Imports\n",
        "import joblib\n",
        "import time\n",
        "import numpy as np\n",
        "import pandas as pd\n",
        "import gc; gc.enable()\n",
        "\n",
        "# Hide warnings\n",
        "import warnings\n",
        "warnings.filterwarnings('ignore')\n",
        "\n",
        "# Speedup some scikit-learn algorithms\n",
        "#from sklearnex import patch_sklearn\n",
        "#patch_sklearn()\n",
        "import sklearn\n",
        "\n",
        "# Scoring and Cross-Validation\n",
        "from sklearn.base import clone\n",
        "from sklearn.metrics import roc_auc_score\n",
        "from sklearn.utils.extmath import softmax\n",
        "\n",
        "# Imputation and Preprocessing\n",
        "from sklearn.preprocessing import RobustScaler\n",
        "from category_encoders import WOEEncoder\n",
        "from sklearn.impute import KNNImputer\n",
        "\n",
        "# Pipeline Constructors\n",
        "from sklearn.pipeline import make_pipeline\n",
        "from sklearn.compose import make_column_transformer, make_column_selector\n",
        "from sklearn.preprocessing import FunctionTransformer\n",
        "\n",
        "# Models\n",
        "from sklearn.linear_model import LogisticRegression, HuberRegressor\n",
        "from xgboost import XGBClassifier\n",
        "\n",
        "# Optuna\n",
        "import optuna\n",
        "from optuna.visualization import plot_param_importances, plot_parallel_coordinate\n",
        "from optuna.pruners import PercentilePruner"
      ],
      "metadata": {
        "_cell_guid": "b1076dfc-b9ad-4769-8c92-a6c4dae69d19",
        "_kg_hide-input": true,
        "_uuid": "8f2839f25d086af736a60e9eeb907d3b93b6e0e5",
        "papermill": {
          "duration": 2.515047,
          "end_time": "2022-08-02T01:01:05.232854",
          "exception": false,
          "start_time": "2022-08-02T01:01:02.717807",
          "status": "completed"
        },
        "tags": [],
        "pycharm": {
          "name": "#%%\n"
        },
        "_kg_hide-output": true,
        "execution": {
          "iopub.status.busy": "2023-01-07T11:25:42.708452Z",
          "iopub.execute_input": "2023-01-07T11:25:42.709020Z",
          "iopub.status.idle": "2023-01-07T11:25:45.534197Z",
          "shell.execute_reply.started": "2023-01-07T11:25:42.708969Z",
          "shell.execute_reply": "2023-01-07T11:25:45.532984Z"
        },
        "trusted": true,
        "id": "oC69rnhODgf_"
      },
      "execution_count": 3,
      "outputs": []
    },
    {
      "cell_type": "code",
      "source": [
        "submission = pd.read_csv('sample_submission.csv')\n",
        "train = pd.read_csv('train.csv', index_col = 'id') \n",
        "test = pd.read_csv('test.csv', index_col = 'id')\n",
        "\n",
        "# Remove target column\n",
        "target = train['failure'].copy()\n",
        "gc.collect()\n",
        "\n",
        "print(target)"
      ],
      "metadata": {
        "_cell_guid": "b1076dfc-b9ad-4769-8c92-a6c4dae69d19",
        "_kg_hide-input": false,
        "_uuid": "8f2839f25d086af736a60e9eeb907d3b93b6e0e5",
        "papermill": {
          "duration": 2.515047,
          "end_time": "2022-08-02T01:01:05.232854",
          "exception": false,
          "start_time": "2022-08-02T01:01:02.717807",
          "status": "completed"
        },
        "tags": [],
        "pycharm": {
          "name": "#%%\n"
        },
        "_kg_hide-output": false,
        "execution": {
          "iopub.status.busy": "2023-01-07T11:25:45.536362Z",
          "iopub.execute_input": "2023-01-07T11:25:45.536742Z",
          "iopub.status.idle": "2023-01-07T11:25:45.985848Z",
          "shell.execute_reply.started": "2023-01-07T11:25:45.536703Z",
          "shell.execute_reply": "2023-01-07T11:25:45.984938Z"
        },
        "trusted": true,
        "colab": {
          "base_uri": "https://localhost:8080/"
        },
        "id": "UG5JU2PgDggD",
        "outputId": "3a83fda2-86e1-4498-9975-f96685e37bea"
      },
      "execution_count": 8,
      "outputs": [
        {
          "output_type": "stream",
          "name": "stdout",
          "text": [
            "id\n",
            "0        0\n",
            "1        0\n",
            "2        0\n",
            "3        0\n",
            "4        0\n",
            "        ..\n",
            "26565    0\n",
            "26566    0\n",
            "26567    0\n",
            "26568    0\n",
            "26569    0\n",
            "Name: failure, Length: 26570, dtype: int64\n"
          ]
        }
      ]
    },
    {
      "cell_type": "markdown",
      "source": [
        "# Preprocessing"
      ],
      "metadata": {
        "id": "aS-EoUu2DggG"
      }
    },
    {
      "cell_type": "code",
      "source": [
        "def preprocessing(df_train, df_test):\n",
        "    data = pd.concat([df_train, df_test])\n",
        "    \n",
        "    data['m3_missing'] = data['measurement_3'].isnull().astype(np.int8)\n",
        "    data['m5_missing'] = data['measurement_5'].isnull().astype(np.int8)\n",
        "    data['area'] = data['attribute_2'] * data['attribute_3']# product code?\n",
        "    feature = [f for f in df_test.columns if f.startswith('measurement') or f =='loading']\n",
        "\n",
        "    full_fill_dict ={}\n",
        "    full_fill_dict['measurement_17'] = {\n",
        "        'A': ['measurement_5','measurement_6','measurement_8'],\n",
        "        'B': ['measurement_4','measurement_5','measurement_7'],\n",
        "        'C': ['measurement_5','measurement_7','measurement_8','measurement_9'],\n",
        "        'D': ['measurement_5','measurement_6','measurement_7','measurement_8'],\n",
        "        'E': ['measurement_4','measurement_5','measurement_6','measurement_8'],\n",
        "        'F': ['measurement_4','measurement_5','measurement_6','measurement_7'],\n",
        "        'G': ['measurement_4','measurement_6','measurement_8','measurement_9'],\n",
        "        'H': ['measurement_4','measurement_5','measurement_7','measurement_8','measurement_9'],\n",
        "        'I': ['measurement_3','measurement_7','measurement_8']\n",
        "    }\n",
        "\n",
        "    # collect the name of the next 10 best measurement columns sorted by correlation (except 17 already done above):\n",
        "    col = [col for col in df_test.columns if 'measurement' not in col]+ ['loading','m3_missing','m5_missing']\n",
        "    a = []\n",
        "    b =[]\n",
        "    for x in range(3,17):\n",
        "        corr = np.absolute(data.drop(col, axis=1).corr()[f'measurement_{x}']).sort_values(ascending=False)\n",
        "        a.append(np.round(np.sum(corr[1:4]),3)) # add the 3 first lines of the correlation values to get the \"most correlated\"\n",
        "        b.append(f'measurement_{x}')\n",
        "    c = pd.DataFrame()\n",
        "    c['Selected columns'] = b\n",
        "    c['correlation total'] = a\n",
        "    c = c.sort_values(by = 'correlation total',ascending=False).reset_index(drop = True)\n",
        "\n",
        "    #display(c.head(10))\n",
        "\n",
        "    for i in range(10):\n",
        "        #print(c.iloc[i,0])\n",
        "        measurement_col = c.iloc[i,0] #select the next best correlated column \n",
        "        fill_dict = {}\n",
        "        for x in data.product_code.unique(): \n",
        "            corr = np.absolute(data[data.product_code == x].drop(col, axis=1).corr()[measurement_col]).sort_values(ascending=False)\n",
        "            #print(corr)\n",
        "            fill_dict[x] = corr[1:5].index.tolist()\n",
        "        full_fill_dict[measurement_col] = fill_dict\n",
        "        #print(full_fill_dict[measurement_col])\n",
        "\n",
        "    feature = [f for f in data.columns if f.startswith('measurement') or f=='loading']\n",
        "    nullValue_cols = [col for col in df_train.columns if df_train[col].isnull().sum()!=0]\n",
        "\n",
        "    for code in data.product_code.unique():#A to I\n",
        "        for measurement_col in list(full_fill_dict.keys()):\n",
        "            tmp = data[data.product_code == code]\n",
        "            column = full_fill_dict[measurement_col][code]\n",
        "            tmp_train = tmp[column+[measurement_col]].dropna(how='any')\n",
        "            tmp_test = tmp[(tmp[column].isnull().sum(axis=1)==0)&(tmp[measurement_col].isnull())]\n",
        "\n",
        "            model = HuberRegressor(epsilon=1.9)\n",
        "            model.fit(tmp_train[column], tmp_train[measurement_col])\n",
        "            data.loc[(data.product_code==code)&(data[column].isnull().sum(axis=1)==0)&(data[measurement_col].isnull()),measurement_col] = model.predict(tmp_test[column])\n",
        "\n",
        "        # others NA columns:\n",
        "        data.loc[data.product_code==code, feature] = KNNImputer(n_neighbors=3).fit_transform(data.loc[data.product_code==code, feature])\n",
        "\n",
        "    data['measurement_avg'] = data[[f'measurement_{i}' for i in range(3, 17)]].mean(axis=1)\n",
        "    df_train = data.iloc[:df_train.shape[0],:]\n",
        "    df_test = data.iloc[df_train.shape[0]:,:]\n",
        "  \n",
        "    \n",
        "    return df_train, df_test"
      ],
      "metadata": {
        "_kg_hide-input": true,
        "execution": {
          "iopub.status.busy": "2023-01-07T11:25:45.987270Z",
          "iopub.execute_input": "2023-01-07T11:25:45.989215Z",
          "iopub.status.idle": "2023-01-07T11:25:46.009943Z",
          "shell.execute_reply.started": "2023-01-07T11:25:45.989177Z",
          "shell.execute_reply": "2023-01-07T11:25:46.008768Z"
        },
        "trusted": true,
        "id": "wKeibBIuDggH"
      },
      "execution_count": 9,
      "outputs": []
    },
    {
      "cell_type": "code",
      "source": [
        "train, test = preprocessing(train, test)\n",
        "features = ['loading', 'attribute_0', 'measurement_17', 'measurement_0', 'measurement_1', 'measurement_2', 'area', 'm3_missing', 'm5_missing', 'measurement_avg']\n",
        "train.head()\n",
        "\n"
      ],
      "metadata": {
        "execution": {
          "iopub.status.busy": "2023-01-07T11:25:46.012655Z",
          "iopub.execute_input": "2023-01-07T11:25:46.013044Z",
          "iopub.status.idle": "2023-01-07T11:25:57.310854Z",
          "shell.execute_reply.started": "2023-01-07T11:25:46.013007Z",
          "shell.execute_reply": "2023-01-07T11:25:57.309459Z"
        },
        "trusted": true,
        "id": "mAoZSlJ8DggK",
        "colab": {
          "base_uri": "https://localhost:8080/",
          "height": 331
        },
        "outputId": "f4230827-a5da-4406-cfcd-d7a4d0dfe148"
      },
      "execution_count": 10,
      "outputs": [
        {
          "output_type": "execute_result",
          "data": {
            "text/plain": [
              "   product_code  loading attribute_0 attribute_1  attribute_2  attribute_3  \\\n",
              "id                                                                           \n",
              "0             A    80.10  material_7  material_8            9            5   \n",
              "1             A    84.89  material_7  material_8            9            5   \n",
              "2             A    82.43  material_7  material_8            9            5   \n",
              "3             A   101.07  material_7  material_8            9            5   \n",
              "4             A   188.06  material_7  material_8            9            5   \n",
              "\n",
              "    measurement_0  measurement_1  measurement_2  measurement_3  ...  \\\n",
              "id                                                              ...   \n",
              "0             7.0            8.0            4.0         18.040  ...   \n",
              "1            14.0            3.0            3.0         18.213  ...   \n",
              "2            12.0            1.0            5.0         18.057  ...   \n",
              "3            13.0            2.0            6.0         17.295  ...   \n",
              "4             9.0            2.0            8.0         19.346  ...   \n",
              "\n",
              "    measurement_13  measurement_14  measurement_15  measurement_16  \\\n",
              "id                                                                   \n",
              "0           15.029       15.495868          13.034          14.684   \n",
              "1           14.732       15.425000          14.395          15.631   \n",
              "2           16.711       18.631000          14.094          17.946   \n",
              "3           15.250       15.562000          16.154          17.172   \n",
              "4           16.182       12.760000          13.153          16.412   \n",
              "\n",
              "    measurement_17  failure  m3_missing  m5_missing  area  measurement_avg  \n",
              "id                                                                          \n",
              "0          764.100      0.0           0           0    45        15.360919  \n",
              "1          682.057      0.0           0           0    45        15.446286  \n",
              "2          663.376      0.0           0           0    45        16.098820  \n",
              "3          826.282      0.0           0           0    45        15.599500  \n",
              "4          579.885      0.0           0           0    45        15.194071  \n",
              "\n",
              "[5 rows x 29 columns]"
            ],
            "text/html": [
              "\n",
              "  <div id=\"df-8e4015bc-defb-4487-9520-81de4a223ba3\">\n",
              "    <div class=\"colab-df-container\">\n",
              "      <div>\n",
              "<style scoped>\n",
              "    .dataframe tbody tr th:only-of-type {\n",
              "        vertical-align: middle;\n",
              "    }\n",
              "\n",
              "    .dataframe tbody tr th {\n",
              "        vertical-align: top;\n",
              "    }\n",
              "\n",
              "    .dataframe thead th {\n",
              "        text-align: right;\n",
              "    }\n",
              "</style>\n",
              "<table border=\"1\" class=\"dataframe\">\n",
              "  <thead>\n",
              "    <tr style=\"text-align: right;\">\n",
              "      <th></th>\n",
              "      <th>product_code</th>\n",
              "      <th>loading</th>\n",
              "      <th>attribute_0</th>\n",
              "      <th>attribute_1</th>\n",
              "      <th>attribute_2</th>\n",
              "      <th>attribute_3</th>\n",
              "      <th>measurement_0</th>\n",
              "      <th>measurement_1</th>\n",
              "      <th>measurement_2</th>\n",
              "      <th>measurement_3</th>\n",
              "      <th>...</th>\n",
              "      <th>measurement_13</th>\n",
              "      <th>measurement_14</th>\n",
              "      <th>measurement_15</th>\n",
              "      <th>measurement_16</th>\n",
              "      <th>measurement_17</th>\n",
              "      <th>failure</th>\n",
              "      <th>m3_missing</th>\n",
              "      <th>m5_missing</th>\n",
              "      <th>area</th>\n",
              "      <th>measurement_avg</th>\n",
              "    </tr>\n",
              "    <tr>\n",
              "      <th>id</th>\n",
              "      <th></th>\n",
              "      <th></th>\n",
              "      <th></th>\n",
              "      <th></th>\n",
              "      <th></th>\n",
              "      <th></th>\n",
              "      <th></th>\n",
              "      <th></th>\n",
              "      <th></th>\n",
              "      <th></th>\n",
              "      <th></th>\n",
              "      <th></th>\n",
              "      <th></th>\n",
              "      <th></th>\n",
              "      <th></th>\n",
              "      <th></th>\n",
              "      <th></th>\n",
              "      <th></th>\n",
              "      <th></th>\n",
              "      <th></th>\n",
              "      <th></th>\n",
              "    </tr>\n",
              "  </thead>\n",
              "  <tbody>\n",
              "    <tr>\n",
              "      <th>0</th>\n",
              "      <td>A</td>\n",
              "      <td>80.10</td>\n",
              "      <td>material_7</td>\n",
              "      <td>material_8</td>\n",
              "      <td>9</td>\n",
              "      <td>5</td>\n",
              "      <td>7.0</td>\n",
              "      <td>8.0</td>\n",
              "      <td>4.0</td>\n",
              "      <td>18.040</td>\n",
              "      <td>...</td>\n",
              "      <td>15.029</td>\n",
              "      <td>15.495868</td>\n",
              "      <td>13.034</td>\n",
              "      <td>14.684</td>\n",
              "      <td>764.100</td>\n",
              "      <td>0.0</td>\n",
              "      <td>0</td>\n",
              "      <td>0</td>\n",
              "      <td>45</td>\n",
              "      <td>15.360919</td>\n",
              "    </tr>\n",
              "    <tr>\n",
              "      <th>1</th>\n",
              "      <td>A</td>\n",
              "      <td>84.89</td>\n",
              "      <td>material_7</td>\n",
              "      <td>material_8</td>\n",
              "      <td>9</td>\n",
              "      <td>5</td>\n",
              "      <td>14.0</td>\n",
              "      <td>3.0</td>\n",
              "      <td>3.0</td>\n",
              "      <td>18.213</td>\n",
              "      <td>...</td>\n",
              "      <td>14.732</td>\n",
              "      <td>15.425000</td>\n",
              "      <td>14.395</td>\n",
              "      <td>15.631</td>\n",
              "      <td>682.057</td>\n",
              "      <td>0.0</td>\n",
              "      <td>0</td>\n",
              "      <td>0</td>\n",
              "      <td>45</td>\n",
              "      <td>15.446286</td>\n",
              "    </tr>\n",
              "    <tr>\n",
              "      <th>2</th>\n",
              "      <td>A</td>\n",
              "      <td>82.43</td>\n",
              "      <td>material_7</td>\n",
              "      <td>material_8</td>\n",
              "      <td>9</td>\n",
              "      <td>5</td>\n",
              "      <td>12.0</td>\n",
              "      <td>1.0</td>\n",
              "      <td>5.0</td>\n",
              "      <td>18.057</td>\n",
              "      <td>...</td>\n",
              "      <td>16.711</td>\n",
              "      <td>18.631000</td>\n",
              "      <td>14.094</td>\n",
              "      <td>17.946</td>\n",
              "      <td>663.376</td>\n",
              "      <td>0.0</td>\n",
              "      <td>0</td>\n",
              "      <td>0</td>\n",
              "      <td>45</td>\n",
              "      <td>16.098820</td>\n",
              "    </tr>\n",
              "    <tr>\n",
              "      <th>3</th>\n",
              "      <td>A</td>\n",
              "      <td>101.07</td>\n",
              "      <td>material_7</td>\n",
              "      <td>material_8</td>\n",
              "      <td>9</td>\n",
              "      <td>5</td>\n",
              "      <td>13.0</td>\n",
              "      <td>2.0</td>\n",
              "      <td>6.0</td>\n",
              "      <td>17.295</td>\n",
              "      <td>...</td>\n",
              "      <td>15.250</td>\n",
              "      <td>15.562000</td>\n",
              "      <td>16.154</td>\n",
              "      <td>17.172</td>\n",
              "      <td>826.282</td>\n",
              "      <td>0.0</td>\n",
              "      <td>0</td>\n",
              "      <td>0</td>\n",
              "      <td>45</td>\n",
              "      <td>15.599500</td>\n",
              "    </tr>\n",
              "    <tr>\n",
              "      <th>4</th>\n",
              "      <td>A</td>\n",
              "      <td>188.06</td>\n",
              "      <td>material_7</td>\n",
              "      <td>material_8</td>\n",
              "      <td>9</td>\n",
              "      <td>5</td>\n",
              "      <td>9.0</td>\n",
              "      <td>2.0</td>\n",
              "      <td>8.0</td>\n",
              "      <td>19.346</td>\n",
              "      <td>...</td>\n",
              "      <td>16.182</td>\n",
              "      <td>12.760000</td>\n",
              "      <td>13.153</td>\n",
              "      <td>16.412</td>\n",
              "      <td>579.885</td>\n",
              "      <td>0.0</td>\n",
              "      <td>0</td>\n",
              "      <td>0</td>\n",
              "      <td>45</td>\n",
              "      <td>15.194071</td>\n",
              "    </tr>\n",
              "  </tbody>\n",
              "</table>\n",
              "<p>5 rows × 29 columns</p>\n",
              "</div>\n",
              "      <button class=\"colab-df-convert\" onclick=\"convertToInteractive('df-8e4015bc-defb-4487-9520-81de4a223ba3')\"\n",
              "              title=\"Convert this dataframe to an interactive table.\"\n",
              "              style=\"display:none;\">\n",
              "        \n",
              "  <svg xmlns=\"http://www.w3.org/2000/svg\" height=\"24px\"viewBox=\"0 0 24 24\"\n",
              "       width=\"24px\">\n",
              "    <path d=\"M0 0h24v24H0V0z\" fill=\"none\"/>\n",
              "    <path d=\"M18.56 5.44l.94 2.06.94-2.06 2.06-.94-2.06-.94-.94-2.06-.94 2.06-2.06.94zm-11 1L8.5 8.5l.94-2.06 2.06-.94-2.06-.94L8.5 2.5l-.94 2.06-2.06.94zm10 10l.94 2.06.94-2.06 2.06-.94-2.06-.94-.94-2.06-.94 2.06-2.06.94z\"/><path d=\"M17.41 7.96l-1.37-1.37c-.4-.4-.92-.59-1.43-.59-.52 0-1.04.2-1.43.59L10.3 9.45l-7.72 7.72c-.78.78-.78 2.05 0 2.83L4 21.41c.39.39.9.59 1.41.59.51 0 1.02-.2 1.41-.59l7.78-7.78 2.81-2.81c.8-.78.8-2.07 0-2.86zM5.41 20L4 18.59l7.72-7.72 1.47 1.35L5.41 20z\"/>\n",
              "  </svg>\n",
              "      </button>\n",
              "      \n",
              "  <style>\n",
              "    .colab-df-container {\n",
              "      display:flex;\n",
              "      flex-wrap:wrap;\n",
              "      gap: 12px;\n",
              "    }\n",
              "\n",
              "    .colab-df-convert {\n",
              "      background-color: #E8F0FE;\n",
              "      border: none;\n",
              "      border-radius: 50%;\n",
              "      cursor: pointer;\n",
              "      display: none;\n",
              "      fill: #1967D2;\n",
              "      height: 32px;\n",
              "      padding: 0 0 0 0;\n",
              "      width: 32px;\n",
              "    }\n",
              "\n",
              "    .colab-df-convert:hover {\n",
              "      background-color: #E2EBFA;\n",
              "      box-shadow: 0px 1px 2px rgba(60, 64, 67, 0.3), 0px 1px 3px 1px rgba(60, 64, 67, 0.15);\n",
              "      fill: #174EA6;\n",
              "    }\n",
              "\n",
              "    [theme=dark] .colab-df-convert {\n",
              "      background-color: #3B4455;\n",
              "      fill: #D2E3FC;\n",
              "    }\n",
              "\n",
              "    [theme=dark] .colab-df-convert:hover {\n",
              "      background-color: #434B5C;\n",
              "      box-shadow: 0px 1px 3px 1px rgba(0, 0, 0, 0.15);\n",
              "      filter: drop-shadow(0px 1px 2px rgba(0, 0, 0, 0.3));\n",
              "      fill: #FFFFFF;\n",
              "    }\n",
              "  </style>\n",
              "\n",
              "      <script>\n",
              "        const buttonEl =\n",
              "          document.querySelector('#df-8e4015bc-defb-4487-9520-81de4a223ba3 button.colab-df-convert');\n",
              "        buttonEl.style.display =\n",
              "          google.colab.kernel.accessAllowed ? 'block' : 'none';\n",
              "\n",
              "        async function convertToInteractive(key) {\n",
              "          const element = document.querySelector('#df-8e4015bc-defb-4487-9520-81de4a223ba3');\n",
              "          const dataTable =\n",
              "            await google.colab.kernel.invokeFunction('convertToInteractive',\n",
              "                                                     [key], {});\n",
              "          if (!dataTable) return;\n",
              "\n",
              "          const docLinkHtml = 'Like what you see? Visit the ' +\n",
              "            '<a target=\"_blank\" href=https://colab.research.google.com/notebooks/data_table.ipynb>data table notebook</a>'\n",
              "            + ' to learn more about interactive tables.';\n",
              "          element.innerHTML = '';\n",
              "          dataTable['output_type'] = 'display_data';\n",
              "          await google.colab.output.renderOutput(dataTable, element);\n",
              "          const docLink = document.createElement('div');\n",
              "          docLink.innerHTML = docLinkHtml;\n",
              "          element.appendChild(docLink);\n",
              "        }\n",
              "      </script>\n",
              "    </div>\n",
              "  </div>\n",
              "  "
            ]
          },
          "metadata": {},
          "execution_count": 10
        }
      ]
    },
    {
      "cell_type": "code",
      "source": [
        "def split(X: pd.DataFrame):\n",
        "    indices = list(X.groupby(\"product_code\").indices.values())\n",
        "    for i in range(len(indices)):\n",
        "        for j in range(i + 1, len(indices)): #4+3+2+1\n",
        "            yield [\n",
        "                np.concatenate([ix for k, ix in enumerate(indices) if k not in [i, j]]),#3\n",
        "                np.concatenate([ix for k, ix in enumerate(indices) if k in [i, j]])#2\n",
        "            ]"
      ],
      "metadata": {
        "execution": {
          "iopub.status.busy": "2023-01-07T11:25:57.312362Z",
          "iopub.execute_input": "2023-01-07T11:25:57.312701Z",
          "iopub.status.idle": "2023-01-07T11:25:57.322779Z",
          "shell.execute_reply.started": "2023-01-07T11:25:57.312668Z",
          "shell.execute_reply": "2023-01-07T11:25:57.321019Z"
        },
        "trusted": true,
        "id": "g7T2YQAIDggM"
      },
      "execution_count": 15,
      "outputs": []
    },
    {
      "cell_type": "code",
      "source": [
        "\n",
        "SPLITS = list(split(train))\n",
        "print(len(SPLITS))\n",
        "print(SPLITS)"
      ],
      "metadata": {
        "execution": {
          "iopub.status.busy": "2023-01-07T11:25:57.324202Z",
          "iopub.execute_input": "2023-01-07T11:25:57.324541Z",
          "iopub.status.idle": "2023-01-07T11:25:57.353945Z",
          "shell.execute_reply.started": "2023-01-07T11:25:57.324506Z",
          "shell.execute_reply": "2023-01-07T11:25:57.352757Z"
        },
        "trusted": true,
        "colab": {
          "base_uri": "https://localhost:8080/"
        },
        "id": "80bmiTsbDggN",
        "outputId": "240212b4-fd56-43f9-cc42-947e29095734"
      },
      "execution_count": 16,
      "outputs": [
        {
          "output_type": "stream",
          "name": "stdout",
          "text": [
            "10\n",
            "[[array([10350, 10351, 10352, ..., 26567, 26568, 26569]), array([    0,     1,     2, ..., 10347, 10348, 10349])], [array([ 5100,  5101,  5102, ..., 26567, 26568, 26569]), array([    0,     1,     2, ..., 16112, 16113, 16114])], [array([ 5100,  5101,  5102, ..., 26567, 26568, 26569]), array([    0,     1,     2, ..., 21224, 21225, 21226])], [array([ 5100,  5101,  5102, ..., 21224, 21225, 21226]), array([    0,     1,     2, ..., 26567, 26568, 26569])], [array([    0,     1,     2, ..., 26567, 26568, 26569]), array([ 5100,  5101,  5102, ..., 16112, 16113, 16114])], [array([    0,     1,     2, ..., 26567, 26568, 26569]), array([ 5100,  5101,  5102, ..., 21224, 21225, 21226])], [array([    0,     1,     2, ..., 21224, 21225, 21226]), array([ 5100,  5101,  5102, ..., 26567, 26568, 26569])], [array([    0,     1,     2, ..., 26567, 26568, 26569]), array([10350, 10351, 10352, ..., 21224, 21225, 21226])], [array([    0,     1,     2, ..., 21224, 21225, 21226]), array([10350, 10351, 10352, ..., 26567, 26568, 26569])], [array([    0,     1,     2, ..., 16112, 16113, 16114]), array([16115, 16116, 16117, ..., 26567, 26568, 26569])]]\n"
          ]
        }
      ]
    },
    {
      "cell_type": "markdown",
      "source": [
        "# Scoring Function"
      ],
      "metadata": {
        "id": "giKjzRhJDggO"
      }
    },
    {
      "cell_type": "code",
      "source": [
        "preprocessing = make_pipeline(\n",
        "    make_column_transformer(\n",
        "        (WOEEncoder(), ['attribute_0']),\n",
        "        (FunctionTransformer(np.log1p), ['loading']),\n",
        "        remainder = 'passthrough'\n",
        "    ),\n",
        "    RobustScaler()\n",
        ")"
      ],
      "metadata": {
        "execution": {
          "iopub.status.busy": "2023-01-07T11:25:57.355578Z",
          "iopub.execute_input": "2023-01-07T11:25:57.355983Z",
          "iopub.status.idle": "2023-01-07T11:25:57.363963Z",
          "shell.execute_reply.started": "2023-01-07T11:25:57.355956Z",
          "shell.execute_reply": "2023-01-07T11:25:57.363033Z"
        },
        "trusted": true,
        "id": "9tW4YOGiDggQ"
      },
      "execution_count": null,
      "outputs": []
    },
    {
      "cell_type": "code",
      "source": [
        "# Percentile Pruner settings\n",
        "pruner = PercentilePruner(\n",
        "    percentile = 75,\n",
        "    n_startup_trials = 15,\n",
        "    n_warmup_steps = 5,\n",
        "    interval_steps = 1,\n",
        "    n_min_trials = 15,\n",
        ")"
      ],
      "metadata": {
        "execution": {
          "iopub.status.busy": "2023-01-07T11:25:57.365327Z",
          "iopub.execute_input": "2023-01-07T11:25:57.365943Z",
          "iopub.status.idle": "2023-01-07T11:25:57.375549Z",
          "shell.execute_reply.started": "2023-01-07T11:25:57.365911Z",
          "shell.execute_reply": "2023-01-07T11:25:57.374497Z"
        },
        "trusted": true,
        "id": "0Zwcw2zkDggR"
      },
      "execution_count": null,
      "outputs": []
    },
    {
      "cell_type": "code",
      "source": [
        "\n",
        "# Scoring Function\n",
        "def Score(sklearn_model, model_save = 0):\n",
        "\n",
        "    # Stores predictions and scores\n",
        "    \n",
        "    scores = np.zeros(len(SPLITS))\n",
        "    model = None\n",
        "    # Stratified k-fold cross-validation\n",
        "    for fold, (train_idx, valid_idx) in enumerate(SPLITS):\n",
        "\n",
        "        # Training and Validation Sets\n",
        "        X_train = train[features].iloc[train_idx].copy()\n",
        "        X_valid = train[features].iloc[valid_idx].copy()\n",
        "        y_train = target.iloc[train_idx].copy()\n",
        "        y_valid = target.iloc[valid_idx].copy()\n",
        "\n",
        "       # Define model and train\n",
        "        model = make_pipeline(\n",
        "            clone(preprocessing),\n",
        "            clone(sklearn_model)\n",
        "        )\n",
        "        model.fit(X_train, y_train)\n",
        "        if model_save:  \n",
        "          joblib.dump(model,'model'+str(fold)+'.pkl')\n",
        "\n",
        "        scores[fold] = roc_auc_score(y_valid, model.predict_proba(X_valid)[:,1])\n",
        "\n",
        "    print(f'Worst: {round(np.min(scores), 6)}')\n",
        "    print(f'Average:{round(np.mean(scores), 6)}')\n",
        "    return np.mean(scores)"
      ],
      "metadata": {
        "_cell_guid": "b1076dfc-b9ad-4769-8c92-a6c4dae69d19",
        "_kg_hide-input": true,
        "_uuid": "8f2839f25d086af736a60e9eeb907d3b93b6e0e5",
        "papermill": {
          "duration": 2.515047,
          "end_time": "2022-08-02T01:01:05.232854",
          "exception": false,
          "start_time": "2022-08-02T01:01:02.717807",
          "status": "completed"
        },
        "tags": [],
        "pycharm": {
          "name": "#%%\n"
        },
        "_kg_hide-output": true,
        "execution": {
          "iopub.status.busy": "2023-01-07T11:25:57.376850Z",
          "iopub.execute_input": "2023-01-07T11:25:57.377227Z",
          "iopub.status.idle": "2023-01-07T11:25:57.389973Z",
          "shell.execute_reply.started": "2023-01-07T11:25:57.377192Z",
          "shell.execute_reply": "2023-01-07T11:25:57.388881Z"
        },
        "trusted": true,
        "id": "5UGd0_HoDggT"
      },
      "execution_count": null,
      "outputs": []
    },
    {
      "cell_type": "markdown",
      "source": [
        "# XGBoost"
      ],
      "metadata": {
        "id": "9Act3zEgDggW"
      }
    },
    {
      "cell_type": "code",
      "source": [
        "default_params = dict(            \n",
        "    booster = 'gblinear',\n",
        "    eval_metric = 'logloss',\n",
        "    random_state = RANDOM_SEED,\n",
        ")"
      ],
      "metadata": {
        "execution": {
          "iopub.status.busy": "2023-01-07T11:25:57.394106Z",
          "iopub.execute_input": "2023-01-07T11:25:57.394504Z",
          "iopub.status.idle": "2023-01-07T11:25:57.405697Z",
          "shell.execute_reply.started": "2023-01-07T11:25:57.394470Z",
          "shell.execute_reply": "2023-01-07T11:25:57.404648Z"
        },
        "trusted": true,
        "id": "2L3YrTWGDggX"
      },
      "execution_count": null,
      "outputs": []
    },
    {
      "cell_type": "code",
      "source": [
        "def parameter_search(trials):\n",
        "    \n",
        "    # Optuna objective function\n",
        "    def objective(trial):\n",
        "        model_params = dict( \n",
        "            # default 0\n",
        "            reg_lambda = trial.suggest_loguniform(\n",
        "                \"reg_lambda\", 1e-10, 10\n",
        "            ),\n",
        "            # default 0\n",
        "            reg_alpha = trial.suggest_loguniform(\n",
        "                \"reg_alpha\", 1e-10, 10\n",
        "            ),\n",
        "            # default cyclic\n",
        "            feature_selector = trial.suggest_categorical(\n",
        "                \"feature_selector\",['cyclic','shuffle']\n",
        "            ),\n",
        "        )\n",
        "        model = XGBClassifier(\n",
        "            **default_params,\n",
        "            **model_params\n",
        "        )\n",
        "        return Score(model,0)\n",
        "    \n",
        "    \n",
        "    optuna.logging.set_verbosity(optuna.logging.DEBUG)\n",
        "    study = optuna.create_study(pruner = pruner,direction = \"maximize\")\n",
        "    \n",
        "    # Close to defaults\n",
        "    study.enqueue_trial({\n",
        "        'reg_lambda': 1e-10, \n",
        "        'reg_alpha': 1e-10, \n",
        "        'feature_selector': 'cyclic'\n",
        "    })\n",
        "    study.optimize(objective, n_trials=trials)\n",
        "    return study"
      ],
      "metadata": {
        "execution": {
          "iopub.status.busy": "2023-01-07T11:25:57.406855Z",
          "iopub.execute_input": "2023-01-07T11:25:57.407156Z",
          "iopub.status.idle": "2023-01-07T11:25:57.419488Z",
          "shell.execute_reply.started": "2023-01-07T11:25:57.407130Z",
          "shell.execute_reply": "2023-01-07T11:25:57.418637Z"
        },
        "trusted": true,
        "id": "x_RBLEeIDggY"
      },
      "execution_count": null,
      "outputs": []
    },
    {
      "cell_type": "code",
      "source": [
        "# Hide output\n",
        "study = parameter_search(NUM_TRIALS)"
      ],
      "metadata": {
        "execution": {
          "iopub.status.busy": "2023-01-07T11:25:57.420612Z",
          "iopub.execute_input": "2023-01-07T11:25:57.421885Z",
          "iopub.status.idle": "2023-01-07T11:33:56.288823Z",
          "shell.execute_reply.started": "2023-01-07T11:25:57.421833Z",
          "shell.execute_reply": "2023-01-07T11:33:56.287690Z"
        },
        "trusted": true,
        "id": "V0xuii48Dgga",
        "colab": {
          "base_uri": "https://localhost:8080/"
        },
        "outputId": "8127ff45-5142-4e3a-c2e7-72c22174b250"
      },
      "execution_count": null,
      "outputs": [
        {
          "output_type": "stream",
          "name": "stderr",
          "text": [
            "\u001b[32m[I 2023-01-08 14:58:03,588]\u001b[0m A new study created in memory with name: no-name-956227b3-a721-4fde-a0f5-c89b24f7b6ff\u001b[0m\n",
            "\u001b[37m[D 2023-01-08 14:58:03,597]\u001b[0m Trial 0 popped from the trial queue.\u001b[0m\n",
            "\u001b[32m[I 2023-01-08 14:58:09,879]\u001b[0m Trial 0 finished with value: 0.5885290209959226 and parameters: {'reg_lambda': 1e-10, 'reg_alpha': 1e-10, 'feature_selector': 'cyclic'}. Best is trial 0 with value: 0.5885290209959226.\u001b[0m\n"
          ]
        },
        {
          "output_type": "stream",
          "name": "stdout",
          "text": [
            "Worst: 0.581888\n",
            "Average:0.588529\n"
          ]
        },
        {
          "output_type": "stream",
          "name": "stderr",
          "text": [
            "\u001b[32m[I 2023-01-08 14:58:18,906]\u001b[0m Trial 1 finished with value: 0.5885290659189659 and parameters: {'reg_lambda': 1.7224359887850736e-10, 'reg_alpha': 2.0937117085130584e-07, 'feature_selector': 'cyclic'}. Best is trial 1 with value: 0.5885290659189659.\u001b[0m\n"
          ]
        },
        {
          "output_type": "stream",
          "name": "stdout",
          "text": [
            "Worst: 0.581889\n",
            "Average:0.588529\n"
          ]
        },
        {
          "output_type": "stream",
          "name": "stderr",
          "text": [
            "\u001b[32m[I 2023-01-08 14:58:27,566]\u001b[0m Trial 2 finished with value: 0.5885288408286115 and parameters: {'reg_lambda': 1.4317121770511305e-07, 'reg_alpha': 8.296755262382416e-10, 'feature_selector': 'shuffle'}. Best is trial 1 with value: 0.5885290659189659.\u001b[0m\n"
          ]
        },
        {
          "output_type": "stream",
          "name": "stdout",
          "text": [
            "Worst: 0.581878\n",
            "Average:0.588529\n"
          ]
        },
        {
          "output_type": "stream",
          "name": "stderr",
          "text": [
            "\u001b[32m[I 2023-01-08 14:58:32,304]\u001b[0m Trial 3 finished with value: 0.5885803678012573 and parameters: {'reg_lambda': 8.208227472938222e-05, 'reg_alpha': 1.9086620561886642e-07, 'feature_selector': 'cyclic'}. Best is trial 3 with value: 0.5885803678012573.\u001b[0m\n"
          ]
        },
        {
          "output_type": "stream",
          "name": "stdout",
          "text": [
            "Worst: 0.58196\n",
            "Average:0.58858\n"
          ]
        },
        {
          "output_type": "stream",
          "name": "stderr",
          "text": [
            "\u001b[32m[I 2023-01-08 14:58:36,971]\u001b[0m Trial 4 finished with value: 0.5885290245579952 and parameters: {'reg_lambda': 1.0552324503428174e-10, 'reg_alpha': 2.0340706405419204e-07, 'feature_selector': 'cyclic'}. Best is trial 3 with value: 0.5885803678012573.\u001b[0m\n"
          ]
        },
        {
          "output_type": "stream",
          "name": "stdout",
          "text": [
            "Worst: 0.581889\n",
            "Average:0.588529\n"
          ]
        },
        {
          "output_type": "stream",
          "name": "stderr",
          "text": [
            "\u001b[32m[I 2023-01-08 14:58:41,647]\u001b[0m Trial 5 finished with value: 0.5892572139844285 and parameters: {'reg_lambda': 0.0032388491770185155, 'reg_alpha': 1.3819942901924977e-06, 'feature_selector': 'cyclic'}. Best is trial 5 with value: 0.5892572139844285.\u001b[0m\n"
          ]
        },
        {
          "output_type": "stream",
          "name": "stdout",
          "text": [
            "Worst: 0.583718\n",
            "Average:0.589257\n"
          ]
        },
        {
          "output_type": "stream",
          "name": "stderr",
          "text": [
            "\u001b[32m[I 2023-01-08 14:58:45,953]\u001b[0m Trial 6 finished with value: 0.5 and parameters: {'reg_lambda': 2.7048421022317546e-09, 'reg_alpha': 0.6472227691221217, 'feature_selector': 'shuffle'}. Best is trial 5 with value: 0.5892572139844285.\u001b[0m\n"
          ]
        },
        {
          "output_type": "stream",
          "name": "stdout",
          "text": [
            "Worst: 0.5\n",
            "Average:0.5\n"
          ]
        },
        {
          "output_type": "stream",
          "name": "stderr",
          "text": [
            "\u001b[32m[I 2023-01-08 14:58:50,687]\u001b[0m Trial 7 finished with value: 0.5883823624297 and parameters: {'reg_lambda': 1.2809474640266365, 'reg_alpha': 1.2708125457932333e-09, 'feature_selector': 'cyclic'}. Best is trial 5 with value: 0.5892572139844285.\u001b[0m\n"
          ]
        },
        {
          "output_type": "stream",
          "name": "stdout",
          "text": [
            "Worst: 0.583882\n",
            "Average:0.588382\n"
          ]
        },
        {
          "output_type": "stream",
          "name": "stderr",
          "text": [
            "\u001b[32m[I 2023-01-08 14:58:55,460]\u001b[0m Trial 8 finished with value: 0.5891909742290684 and parameters: {'reg_lambda': 0.009721109130530743, 'reg_alpha': 0.00016263654997473017, 'feature_selector': 'shuffle'}. Best is trial 5 with value: 0.5892572139844285.\u001b[0m\n"
          ]
        },
        {
          "output_type": "stream",
          "name": "stdout",
          "text": [
            "Worst: 0.584105\n",
            "Average:0.589191\n"
          ]
        },
        {
          "output_type": "stream",
          "name": "stderr",
          "text": [
            "\u001b[32m[I 2023-01-08 14:59:00,321]\u001b[0m Trial 9 finished with value: 0.5888739775681646 and parameters: {'reg_lambda': 0.3107972714072072, 'reg_alpha': 0.0017643402595908257, 'feature_selector': 'shuffle'}. Best is trial 5 with value: 0.5892572139844285.\u001b[0m\n"
          ]
        },
        {
          "output_type": "stream",
          "name": "stdout",
          "text": [
            "Worst: 0.584282\n",
            "Average:0.588874\n"
          ]
        },
        {
          "output_type": "stream",
          "name": "stderr",
          "text": [
            "\u001b[32m[I 2023-01-08 14:59:04,827]\u001b[0m Trial 10 finished with value: 0.5 and parameters: {'reg_lambda': 0.00020079901965520928, 'reg_alpha': 0.25983289934066905, 'feature_selector': 'cyclic'}. Best is trial 5 with value: 0.5892572139844285.\u001b[0m\n"
          ]
        },
        {
          "output_type": "stream",
          "name": "stdout",
          "text": [
            "Worst: 0.5\n",
            "Average:0.5\n"
          ]
        },
        {
          "output_type": "stream",
          "name": "stderr",
          "text": [
            "\u001b[32m[I 2023-01-08 14:59:09,584]\u001b[0m Trial 11 finished with value: 0.5890465372874897 and parameters: {'reg_lambda': 0.02167195431595164, 'reg_alpha': 0.00012607335152947283, 'feature_selector': 'shuffle'}. Best is trial 5 with value: 0.5892572139844285.\u001b[0m\n"
          ]
        },
        {
          "output_type": "stream",
          "name": "stdout",
          "text": [
            "Worst: 0.584037\n",
            "Average:0.589047\n"
          ]
        },
        {
          "output_type": "stream",
          "name": "stderr",
          "text": [
            "\u001b[32m[I 2023-01-08 14:59:14,205]\u001b[0m Trial 12 finished with value: 0.5892857438890842 and parameters: {'reg_lambda': 0.004491570414075663, 'reg_alpha': 1.273438070531446e-05, 'feature_selector': 'shuffle'}. Best is trial 12 with value: 0.5892857438890842.\u001b[0m\n"
          ]
        },
        {
          "output_type": "stream",
          "name": "stdout",
          "text": [
            "Worst: 0.583938\n",
            "Average:0.589286\n"
          ]
        },
        {
          "output_type": "stream",
          "name": "stderr",
          "text": [
            "\u001b[32m[I 2023-01-08 14:59:18,866]\u001b[0m Trial 13 finished with value: 0.5885332430998697 and parameters: {'reg_lambda': 1.5444441078332219e-06, 'reg_alpha': 3.1732415703591307e-06, 'feature_selector': 'shuffle'}. Best is trial 12 with value: 0.5892857438890842.\u001b[0m\n"
          ]
        },
        {
          "output_type": "stream",
          "name": "stdout",
          "text": [
            "Worst: 0.581882\n",
            "Average:0.588533\n"
          ]
        },
        {
          "output_type": "stream",
          "name": "stderr",
          "text": [
            "\u001b[32m[I 2023-01-08 14:59:23,370]\u001b[0m Trial 14 finished with value: 0.5871097331084332 and parameters: {'reg_lambda': 0.003041465365376834, 'reg_alpha': 0.011015636681298102, 'feature_selector': 'shuffle'}. Best is trial 12 with value: 0.5892857438890842.\u001b[0m\n"
          ]
        },
        {
          "output_type": "stream",
          "name": "stdout",
          "text": [
            "Worst: 0.581675\n",
            "Average:0.58711\n"
          ]
        },
        {
          "output_type": "stream",
          "name": "stderr",
          "text": [
            "\u001b[32m[I 2023-01-08 14:59:28,077]\u001b[0m Trial 15 finished with value: 0.588302266551749 and parameters: {'reg_lambda': 6.6436429893971845, 'reg_alpha': 5.169055320091804e-06, 'feature_selector': 'cyclic'}. Best is trial 12 with value: 0.5892857438890842.\u001b[0m\n"
          ]
        },
        {
          "output_type": "stream",
          "name": "stdout",
          "text": [
            "Worst: 0.583861\n",
            "Average:0.588302\n"
          ]
        },
        {
          "output_type": "stream",
          "name": "stderr",
          "text": [
            "\u001b[32m[I 2023-01-08 14:59:32,784]\u001b[0m Trial 16 finished with value: 0.5885370591298196 and parameters: {'reg_lambda': 3.789534763444173e-06, 'reg_alpha': 5.0603396008763e-06, 'feature_selector': 'cyclic'}. Best is trial 12 with value: 0.5892857438890842.\u001b[0m\n"
          ]
        },
        {
          "output_type": "stream",
          "name": "stdout",
          "text": [
            "Worst: 0.581892\n",
            "Average:0.588537\n"
          ]
        },
        {
          "output_type": "stream",
          "name": "stderr",
          "text": [
            "\u001b[32m[I 2023-01-08 14:59:37,380]\u001b[0m Trial 17 finished with value: 0.5884457999573299 and parameters: {'reg_lambda': 0.0009071971235620952, 'reg_alpha': 0.006279451700751141, 'feature_selector': 'shuffle'}. Best is trial 12 with value: 0.5892857438890842.\u001b[0m\n"
          ]
        },
        {
          "output_type": "stream",
          "name": "stdout",
          "text": [
            "Worst: 0.583783\n",
            "Average:0.588446\n"
          ]
        },
        {
          "output_type": "stream",
          "name": "stderr",
          "text": [
            "\u001b[32m[I 2023-01-08 14:59:42,142]\u001b[0m Trial 18 finished with value: 0.5887867200268184 and parameters: {'reg_lambda': 0.10239053491396541, 'reg_alpha': 1.6885381442707872e-08, 'feature_selector': 'shuffle'}. Best is trial 12 with value: 0.5892857438890842.\u001b[0m\n"
          ]
        },
        {
          "output_type": "stream",
          "name": "stdout",
          "text": [
            "Worst: 0.584008\n",
            "Average:0.588787\n"
          ]
        },
        {
          "output_type": "stream",
          "name": "stderr",
          "text": [
            "\u001b[32m[I 2023-01-08 14:59:46,808]\u001b[0m Trial 19 finished with value: 0.588596238601857 and parameters: {'reg_lambda': 9.379515101659935e-06, 'reg_alpha': 5.5162097877946184e-05, 'feature_selector': 'cyclic'}. Best is trial 12 with value: 0.5892857438890842.\u001b[0m\n"
          ]
        },
        {
          "output_type": "stream",
          "name": "stdout",
          "text": [
            "Worst: 0.581943\n",
            "Average:0.588596\n"
          ]
        },
        {
          "output_type": "stream",
          "name": "stderr",
          "text": [
            "\u001b[32m[I 2023-01-08 14:59:51,201]\u001b[0m Trial 20 finished with value: 0.5 and parameters: {'reg_lambda': 1.9819624292635516e-07, 'reg_alpha': 7.568930715307399, 'feature_selector': 'cyclic'}. Best is trial 12 with value: 0.5892857438890842.\u001b[0m\n"
          ]
        },
        {
          "output_type": "stream",
          "name": "stdout",
          "text": [
            "Worst: 0.5\n",
            "Average:0.5\n"
          ]
        },
        {
          "output_type": "stream",
          "name": "stderr",
          "text": [
            "\u001b[32m[I 2023-01-08 14:59:56,453]\u001b[0m Trial 21 finished with value: 0.5890958584180532 and parameters: {'reg_lambda': 0.008388970020347228, 'reg_alpha': 0.0005286195794220174, 'feature_selector': 'shuffle'}. Best is trial 12 with value: 0.5892857438890842.\u001b[0m\n"
          ]
        },
        {
          "output_type": "stream",
          "name": "stdout",
          "text": [
            "Worst: 0.584137\n",
            "Average:0.589096\n"
          ]
        },
        {
          "output_type": "stream",
          "name": "stderr",
          "text": [
            "\u001b[32m[I 2023-01-08 15:00:02,702]\u001b[0m Trial 22 finished with value: 0.5888789678067627 and parameters: {'reg_lambda': 0.06207923630289409, 'reg_alpha': 1.2142321529817514e-05, 'feature_selector': 'shuffle'}. Best is trial 12 with value: 0.5892857438890842.\u001b[0m\n"
          ]
        },
        {
          "output_type": "stream",
          "name": "stdout",
          "text": [
            "Worst: 0.584021\n",
            "Average:0.588879\n"
          ]
        },
        {
          "output_type": "stream",
          "name": "stderr",
          "text": [
            "\u001b[32m[I 2023-01-08 15:00:07,693]\u001b[0m Trial 23 finished with value: 0.5889485600355131 and parameters: {'reg_lambda': 0.0009414093152727693, 'reg_alpha': 9.617776511238023e-07, 'feature_selector': 'shuffle'}. Best is trial 12 with value: 0.5892857438890842.\u001b[0m\n"
          ]
        },
        {
          "output_type": "stream",
          "name": "stdout",
          "text": [
            "Worst: 0.582675\n",
            "Average:0.588949\n"
          ]
        },
        {
          "output_type": "stream",
          "name": "stderr",
          "text": [
            "\u001b[32m[I 2023-01-08 15:00:12,741]\u001b[0m Trial 24 finished with value: 0.5888738056253155 and parameters: {'reg_lambda': 0.00022781037704230542, 'reg_alpha': 0.0002572514765404916, 'feature_selector': 'shuffle'}. Best is trial 12 with value: 0.5892857438890842.\u001b[0m\n"
          ]
        },
        {
          "output_type": "stream",
          "name": "stdout",
          "text": [
            "Worst: 0.582401\n",
            "Average:0.588874\n"
          ]
        },
        {
          "output_type": "stream",
          "name": "stderr",
          "text": [
            "\u001b[32m[I 2023-01-08 15:00:17,408]\u001b[0m Trial 25 finished with value: 0.5892829799252651 and parameters: {'reg_lambda': 0.005715751650492271, 'reg_alpha': 4.211372040142925e-05, 'feature_selector': 'shuffle'}. Best is trial 12 with value: 0.5892857438890842.\u001b[0m\n"
          ]
        },
        {
          "output_type": "stream",
          "name": "stdout",
          "text": [
            "Worst: 0.584058\n",
            "Average:0.589283\n"
          ]
        },
        {
          "output_type": "stream",
          "name": "stderr",
          "text": [
            "\u001b[32m[I 2023-01-08 15:00:22,198]\u001b[0m Trial 26 finished with value: 0.5884138357321171 and parameters: {'reg_lambda': 0.9484807801452275, 'reg_alpha': 4.112174222027621e-08, 'feature_selector': 'shuffle'}. Best is trial 12 with value: 0.5892857438890842.\u001b[0m\n"
          ]
        },
        {
          "output_type": "stream",
          "name": "stdout",
          "text": [
            "Worst: 0.583906\n",
            "Average:0.588414\n"
          ]
        },
        {
          "output_type": "stream",
          "name": "stderr",
          "text": [
            "\u001b[32m[I 2023-01-08 15:00:29,271]\u001b[0m Trial 27 finished with value: 0.5885936263423485 and parameters: {'reg_lambda': 2.9073813692902012e-05, 'reg_alpha': 3.8885417288874724e-05, 'feature_selector': 'shuffle'}. Best is trial 12 with value: 0.5892857438890842.\u001b[0m\n"
          ]
        },
        {
          "output_type": "stream",
          "name": "stdout",
          "text": [
            "Worst: 0.581946\n",
            "Average:0.588594\n"
          ]
        },
        {
          "output_type": "stream",
          "name": "stderr",
          "text": [
            "\u001b[32m[I 2023-01-08 15:00:39,246]\u001b[0m Trial 28 finished with value: 0.5892345962140442 and parameters: {'reg_lambda': 0.002851917020840612, 'reg_alpha': 1.4687747629031349e-06, 'feature_selector': 'cyclic'}. Best is trial 12 with value: 0.5892857438890842.\u001b[0m\n"
          ]
        },
        {
          "output_type": "stream",
          "name": "stdout",
          "text": [
            "Worst: 0.583595\n",
            "Average:0.589235\n"
          ]
        },
        {
          "output_type": "stream",
          "name": "stderr",
          "text": [
            "\u001b[32m[I 2023-01-08 15:00:44,285]\u001b[0m Trial 29 finished with value: 0.5888997275237171 and parameters: {'reg_lambda': 0.05379331869165438, 'reg_alpha': 1.3985899948395373e-08, 'feature_selector': 'cyclic'}. Best is trial 12 with value: 0.5892857438890842.\u001b[0m\n"
          ]
        },
        {
          "output_type": "stream",
          "name": "stdout",
          "text": [
            "Worst: 0.584012\n",
            "Average:0.5889\n"
          ]
        },
        {
          "output_type": "stream",
          "name": "stderr",
          "text": [
            "\u001b[32m[I 2023-01-08 15:00:49,125]\u001b[0m Trial 30 finished with value: 0.5869997081368019 and parameters: {'reg_lambda': 0.0007204507809830697, 'reg_alpha': 0.02330676284705572, 'feature_selector': 'shuffle'}. Best is trial 12 with value: 0.5892857438890842.\u001b[0m\n"
          ]
        },
        {
          "output_type": "stream",
          "name": "stdout",
          "text": [
            "Worst: 0.581674\n",
            "Average:0.587\n"
          ]
        },
        {
          "output_type": "stream",
          "name": "stderr",
          "text": [
            "\u001b[32m[I 2023-01-08 15:00:54,047]\u001b[0m Trial 31 finished with value: 0.5890890855861592 and parameters: {'reg_lambda': 0.0015823276919072217, 'reg_alpha': 8.77678068609689e-07, 'feature_selector': 'cyclic'}. Best is trial 12 with value: 0.5892857438890842.\u001b[0m\n"
          ]
        },
        {
          "output_type": "stream",
          "name": "stdout",
          "text": [
            "Worst: 0.583086\n",
            "Average:0.589089\n"
          ]
        },
        {
          "output_type": "stream",
          "name": "stderr",
          "text": [
            "\u001b[32m[I 2023-01-08 15:00:58,825]\u001b[0m Trial 32 finished with value: 0.5890121947333613 and parameters: {'reg_lambda': 0.02677109982661336, 'reg_alpha': 9.677072683206381e-07, 'feature_selector': 'cyclic'}. Best is trial 12 with value: 0.5892857438890842.\u001b[0m\n"
          ]
        },
        {
          "output_type": "stream",
          "name": "stdout",
          "text": [
            "Worst: 0.584032\n",
            "Average:0.589012\n"
          ]
        },
        {
          "output_type": "stream",
          "name": "stderr",
          "text": [
            "\u001b[32m[I 2023-01-08 15:01:03,597]\u001b[0m Trial 33 finished with value: 0.5892292487966584 and parameters: {'reg_lambda': 0.002772393945929675, 'reg_alpha': 6.800137232540671e-08, 'feature_selector': 'cyclic'}. Best is trial 12 with value: 0.5892857438890842.\u001b[0m\n"
          ]
        },
        {
          "output_type": "stream",
          "name": "stdout",
          "text": [
            "Worst: 0.583572\n",
            "Average:0.589229\n"
          ]
        },
        {
          "output_type": "stream",
          "name": "stderr",
          "text": [
            "\u001b[32m[I 2023-01-08 15:01:08,281]\u001b[0m Trial 34 finished with value: 0.5885947767652338 and parameters: {'reg_lambda': 5.462583165643526e-05, 'reg_alpha': 2.6161910821576018e-05, 'feature_selector': 'cyclic'}. Best is trial 12 with value: 0.5892857438890842.\u001b[0m\n"
          ]
        },
        {
          "output_type": "stream",
          "name": "stdout",
          "text": [
            "Worst: 0.581969\n",
            "Average:0.588595\n"
          ]
        },
        {
          "output_type": "stream",
          "name": "stderr",
          "text": [
            "\u001b[32m[I 2023-01-08 15:01:13,136]\u001b[0m Trial 35 finished with value: 0.588614283174514 and parameters: {'reg_lambda': 0.24913019947438816, 'reg_alpha': 2.062801006723008e-06, 'feature_selector': 'cyclic'}. Best is trial 12 with value: 0.5892857438890842.\u001b[0m\n"
          ]
        },
        {
          "output_type": "stream",
          "name": "stdout",
          "text": [
            "Worst: 0.583968\n",
            "Average:0.588614\n"
          ]
        },
        {
          "output_type": "stream",
          "name": "stderr",
          "text": [
            "\u001b[32m[I 2023-01-08 15:01:17,927]\u001b[0m Trial 36 finished with value: 0.5890177425770334 and parameters: {'reg_lambda': 0.006262404171005561, 'reg_alpha': 0.0007824996719462242, 'feature_selector': 'cyclic'}. Best is trial 12 with value: 0.5892857438890842.\u001b[0m\n"
          ]
        },
        {
          "output_type": "stream",
          "name": "stdout",
          "text": [
            "Worst: 0.584144\n",
            "Average:0.589018\n"
          ]
        },
        {
          "output_type": "stream",
          "name": "stderr",
          "text": [
            "\u001b[32m[I 2023-01-08 15:01:22,619]\u001b[0m Trial 37 finished with value: 0.5886452658549999 and parameters: {'reg_lambda': 0.00019499966147743246, 'reg_alpha': 1.2444291738892045e-10, 'feature_selector': 'cyclic'}. Best is trial 12 with value: 0.5892857438890842.\u001b[0m\n"
          ]
        },
        {
          "output_type": "stream",
          "name": "stdout",
          "text": [
            "Worst: 0.582068\n",
            "Average:0.588645\n"
          ]
        },
        {
          "output_type": "stream",
          "name": "stderr",
          "text": [
            "\u001b[32m[I 2023-01-08 15:01:28,187]\u001b[0m Trial 38 finished with value: 0.5885648350676409 and parameters: {'reg_lambda': 2.714995459291599e-05, 'reg_alpha': 1.6674182049615417e-05, 'feature_selector': 'shuffle'}. Best is trial 12 with value: 0.5892857438890842.\u001b[0m\n"
          ]
        },
        {
          "output_type": "stream",
          "name": "stdout",
          "text": [
            "Worst: 0.581914\n",
            "Average:0.588565\n"
          ]
        },
        {
          "output_type": "stream",
          "name": "stderr",
          "text": [
            "\u001b[32m[I 2023-01-08 15:01:33,369]\u001b[0m Trial 39 finished with value: 0.588302084077726 and parameters: {'reg_lambda': 6.259344720038555, 'reg_alpha': 2.9373804416646774e-07, 'feature_selector': 'cyclic'}. Best is trial 12 with value: 0.5892857438890842.\u001b[0m\n"
          ]
        },
        {
          "output_type": "stream",
          "name": "stdout",
          "text": [
            "Worst: 0.583858\n",
            "Average:0.588302\n"
          ]
        },
        {
          "output_type": "stream",
          "name": "stderr",
          "text": [
            "\u001b[32m[I 2023-01-08 15:01:38,028]\u001b[0m Trial 40 finished with value: 0.5887296758206347 and parameters: {'reg_lambda': 0.0003690806977787897, 'reg_alpha': 3.11593541804181e-07, 'feature_selector': 'shuffle'}. Best is trial 12 with value: 0.5892857438890842.\u001b[0m\n"
          ]
        },
        {
          "output_type": "stream",
          "name": "stdout",
          "text": [
            "Worst: 0.582209\n",
            "Average:0.58873\n"
          ]
        },
        {
          "output_type": "stream",
          "name": "stderr",
          "text": [
            "\u001b[32m[I 2023-01-08 15:01:42,791]\u001b[0m Trial 41 finished with value: 0.5892652904775464 and parameters: {'reg_lambda': 0.0034279723868520674, 'reg_alpha': 9.374175409789e-08, 'feature_selector': 'cyclic'}. Best is trial 12 with value: 0.5892857438890842.\u001b[0m\n"
          ]
        },
        {
          "output_type": "stream",
          "name": "stdout",
          "text": [
            "Worst: 0.583759\n",
            "Average:0.589265\n"
          ]
        },
        {
          "output_type": "stream",
          "name": "stderr",
          "text": [
            "\u001b[32m[I 2023-01-08 15:01:47,471]\u001b[0m Trial 42 finished with value: 0.5885289372322242 and parameters: {'reg_lambda': 5.654682588442655e-10, 'reg_alpha': 1.1324434647949732e-08, 'feature_selector': 'cyclic'}. Best is trial 12 with value: 0.5892857438890842.\u001b[0m\n"
          ]
        },
        {
          "output_type": "stream",
          "name": "stdout",
          "text": [
            "Worst: 0.581888\n",
            "Average:0.588529\n"
          ]
        },
        {
          "output_type": "stream",
          "name": "stderr",
          "text": [
            "\u001b[32m[I 2023-01-08 15:01:52,125]\u001b[0m Trial 43 finished with value: 0.5891722159292618 and parameters: {'reg_lambda': 0.01228320218927495, 'reg_alpha': 1.6008737119996172e-09, 'feature_selector': 'cyclic'}. Best is trial 12 with value: 0.5892857438890842.\u001b[0m\n"
          ]
        },
        {
          "output_type": "stream",
          "name": "stdout",
          "text": [
            "Worst: 0.584137\n",
            "Average:0.589172\n"
          ]
        },
        {
          "output_type": "stream",
          "name": "stderr",
          "text": [
            "\u001b[32m[I 2023-01-08 15:01:56,967]\u001b[0m Trial 44 finished with value: 0.5892458824900774 and parameters: {'reg_lambda': 0.003025165840841537, 'reg_alpha': 1.4485541431275877e-07, 'feature_selector': 'cyclic'}. Best is trial 12 with value: 0.5892857438890842.\u001b[0m\n"
          ]
        },
        {
          "output_type": "stream",
          "name": "stdout",
          "text": [
            "Worst: 0.583646\n",
            "Average:0.589246\n"
          ]
        },
        {
          "output_type": "stream",
          "name": "stderr",
          "text": [
            "\u001b[32m[I 2023-01-08 15:02:01,795]\u001b[0m Trial 45 finished with value: 0.5889922846715108 and parameters: {'reg_lambda': 0.029775357266541163, 'reg_alpha': 2.923293320400782e-09, 'feature_selector': 'cyclic'}. Best is trial 12 with value: 0.5892857438890842.\u001b[0m\n"
          ]
        },
        {
          "output_type": "stream",
          "name": "stdout",
          "text": [
            "Worst: 0.584027\n",
            "Average:0.588992\n"
          ]
        },
        {
          "output_type": "stream",
          "name": "stderr",
          "text": [
            "\u001b[32m[I 2023-01-08 15:02:06,483]\u001b[0m Trial 46 finished with value: 0.5886944599004301 and parameters: {'reg_lambda': 0.16729715746352464, 'reg_alpha': 1.849927217770221e-07, 'feature_selector': 'cyclic'}. Best is trial 12 with value: 0.5892857438890842.\u001b[0m\n"
          ]
        },
        {
          "output_type": "stream",
          "name": "stdout",
          "text": [
            "Worst: 0.583993\n",
            "Average:0.588694\n"
          ]
        },
        {
          "output_type": "stream",
          "name": "stderr",
          "text": [
            "\u001b[32m[I 2023-01-08 15:02:11,289]\u001b[0m Trial 47 finished with value: 0.5884536079123361 and parameters: {'reg_lambda': 0.6785316045776215, 'reg_alpha': 6.026508859111145e-08, 'feature_selector': 'shuffle'}. Best is trial 12 with value: 0.5892857438890842.\u001b[0m\n"
          ]
        },
        {
          "output_type": "stream",
          "name": "stdout",
          "text": [
            "Worst: 0.583925\n",
            "Average:0.588454\n"
          ]
        },
        {
          "output_type": "stream",
          "name": "stderr",
          "text": [
            "\u001b[32m[I 2023-01-08 15:02:16,275]\u001b[0m Trial 48 finished with value: 0.5892880700293047 and parameters: {'reg_lambda': 0.004621444633595957, 'reg_alpha': 6.22271791969912e-06, 'feature_selector': 'cyclic'}. Best is trial 48 with value: 0.5892880700293047.\u001b[0m\n"
          ]
        },
        {
          "output_type": "stream",
          "name": "stdout",
          "text": [
            "Worst: 0.58395\n",
            "Average:0.589288\n"
          ]
        },
        {
          "output_type": "stream",
          "name": "stderr",
          "text": [
            "\u001b[32m[I 2023-01-08 15:02:21,250]\u001b[0m Trial 49 finished with value: 0.5886268283750509 and parameters: {'reg_lambda': 0.00014670319941722767, 'reg_alpha': 8.220896566104443e-06, 'feature_selector': 'shuffle'}. Best is trial 48 with value: 0.5892880700293047.\u001b[0m\n"
          ]
        },
        {
          "output_type": "stream",
          "name": "stdout",
          "text": [
            "Worst: 0.582023\n",
            "Average:0.588627\n"
          ]
        },
        {
          "output_type": "stream",
          "name": "stderr",
          "text": [
            "\u001b[32m[I 2023-01-08 15:02:25,975]\u001b[0m Trial 50 finished with value: 0.5886198622511855 and parameters: {'reg_lambda': 1.498907482340033e-08, 'reg_alpha': 8.930859155212001e-05, 'feature_selector': 'cyclic'}. Best is trial 48 with value: 0.5892880700293047.\u001b[0m\n"
          ]
        },
        {
          "output_type": "stream",
          "name": "stdout",
          "text": [
            "Worst: 0.581954\n",
            "Average:0.58862\n"
          ]
        },
        {
          "output_type": "stream",
          "name": "stderr",
          "text": [
            "\u001b[32m[I 2023-01-08 15:02:30,637]\u001b[0m Trial 51 finished with value: 0.5892903927713706 and parameters: {'reg_lambda': 0.004326989753682215, 'reg_alpha': 3.0800540492811244e-07, 'feature_selector': 'cyclic'}. Best is trial 51 with value: 0.5892903927713706.\u001b[0m\n"
          ]
        },
        {
          "output_type": "stream",
          "name": "stdout",
          "text": [
            "Worst: 0.583927\n",
            "Average:0.58929\n"
          ]
        },
        {
          "output_type": "stream",
          "name": "stderr",
          "text": [
            "\u001b[32m[I 2023-01-08 15:02:35,314]\u001b[0m Trial 52 finished with value: 0.5892554151395684 and parameters: {'reg_lambda': 0.008304961181633352, 'reg_alpha': 5.5273391092217235e-06, 'feature_selector': 'cyclic'}. Best is trial 51 with value: 0.5892903927713706.\u001b[0m\n"
          ]
        },
        {
          "output_type": "stream",
          "name": "stdout",
          "text": [
            "Worst: 0.584179\n",
            "Average:0.589255\n"
          ]
        },
        {
          "output_type": "stream",
          "name": "stderr",
          "text": [
            "\u001b[32m[I 2023-01-08 15:02:40,028]\u001b[0m Trial 53 finished with value: 0.5888760209376487 and parameters: {'reg_lambda': 0.0007081953259466643, 'reg_alpha': 4.1217639158255343e-07, 'feature_selector': 'cyclic'}. Best is trial 51 with value: 0.5892903927713706.\u001b[0m\n"
          ]
        },
        {
          "output_type": "stream",
          "name": "stdout",
          "text": [
            "Worst: 0.582516\n",
            "Average:0.588876\n"
          ]
        },
        {
          "output_type": "stream",
          "name": "stderr",
          "text": [
            "\u001b[32m[I 2023-01-08 15:02:44,760]\u001b[0m Trial 54 finished with value: 0.5890551881756145 and parameters: {'reg_lambda': 0.021516048387546487, 'reg_alpha': 2.5377925948995063e-06, 'feature_selector': 'cyclic'}. Best is trial 51 with value: 0.5892903927713706.\u001b[0m\n"
          ]
        },
        {
          "output_type": "stream",
          "name": "stdout",
          "text": [
            "Worst: 0.584048\n",
            "Average:0.589055\n"
          ]
        },
        {
          "output_type": "stream",
          "name": "stderr",
          "text": [
            "\u001b[32m[I 2023-01-08 15:02:49,426]\u001b[0m Trial 55 finished with value: 0.5892795644271198 and parameters: {'reg_lambda': 0.00370927322591985, 'reg_alpha': 1.7320922087042802e-05, 'feature_selector': 'cyclic'}. Best is trial 51 with value: 0.5892903927713706.\u001b[0m\n"
          ]
        },
        {
          "output_type": "stream",
          "name": "stdout",
          "text": [
            "Worst: 0.583841\n",
            "Average:0.58928\n"
          ]
        },
        {
          "output_type": "stream",
          "name": "stderr",
          "text": [
            "\u001b[32m[I 2023-01-08 15:02:54,138]\u001b[0m Trial 56 finished with value: 0.588860219734982 and parameters: {'reg_lambda': 0.08732401808742453, 'reg_alpha': 0.0002483791204724261, 'feature_selector': 'cyclic'}. Best is trial 51 with value: 0.5892903927713706.\u001b[0m\n"
          ]
        },
        {
          "output_type": "stream",
          "name": "stdout",
          "text": [
            "Worst: 0.584069\n",
            "Average:0.58886\n"
          ]
        },
        {
          "output_type": "stream",
          "name": "stderr",
          "text": [
            "\u001b[32m[I 2023-01-08 15:02:58,906]\u001b[0m Trial 57 finished with value: 0.5888163376318432 and parameters: {'reg_lambda': 0.0005126305239013925, 'reg_alpha': 2.0503343788881555e-05, 'feature_selector': 'shuffle'}. Best is trial 51 with value: 0.5892903927713706.\u001b[0m\n"
          ]
        },
        {
          "output_type": "stream",
          "name": "stdout",
          "text": [
            "Worst: 0.582368\n",
            "Average:0.588816\n"
          ]
        },
        {
          "output_type": "stream",
          "name": "stderr",
          "text": [
            "\u001b[32m[I 2023-01-08 15:03:03,624]\u001b[0m Trial 58 finished with value: 0.5890532143223794 and parameters: {'reg_lambda': 0.0016294472335097129, 'reg_alpha': 0.0028940921880115725, 'feature_selector': 'cyclic'}. Best is trial 51 with value: 0.5892903927713706.\u001b[0m\n"
          ]
        },
        {
          "output_type": "stream",
          "name": "stdout",
          "text": [
            "Worst: 0.584394\n",
            "Average:0.589053\n"
          ]
        },
        {
          "output_type": "stream",
          "name": "stderr",
          "text": [
            "\u001b[32m[I 2023-01-08 15:03:08,317]\u001b[0m Trial 59 finished with value: 0.5886138282424809 and parameters: {'reg_lambda': 6.89340600255963e-05, 'reg_alpha': 3.729851608429372e-05, 'feature_selector': 'shuffle'}. Best is trial 51 with value: 0.5892903927713706.\u001b[0m\n"
          ]
        },
        {
          "output_type": "stream",
          "name": "stdout",
          "text": [
            "Worst: 0.581979\n",
            "Average:0.588614\n"
          ]
        },
        {
          "output_type": "stream",
          "name": "stderr",
          "text": [
            "\u001b[32m[I 2023-01-08 15:03:13,037]\u001b[0m Trial 60 finished with value: 0.5892805992893673 and parameters: {'reg_lambda': 0.005829725581676909, 'reg_alpha': 8.88607888926205e-05, 'feature_selector': 'cyclic'}. Best is trial 51 with value: 0.5892903927713706.\u001b[0m\n"
          ]
        },
        {
          "output_type": "stream",
          "name": "stdout",
          "text": [
            "Worst: 0.584089\n",
            "Average:0.589281\n"
          ]
        },
        {
          "output_type": "stream",
          "name": "stderr",
          "text": [
            "\u001b[32m[I 2023-01-08 15:03:17,676]\u001b[0m Trial 61 finished with value: 0.5892335581440575 and parameters: {'reg_lambda': 0.008657536651550097, 'reg_alpha': 8.550615805458597e-05, 'feature_selector': 'cyclic'}. Best is trial 51 with value: 0.5892903927713706.\u001b[0m\n"
          ]
        },
        {
          "output_type": "stream",
          "name": "stdout",
          "text": [
            "Worst: 0.584149\n",
            "Average:0.589234\n"
          ]
        },
        {
          "output_type": "stream",
          "name": "stderr",
          "text": [
            "\u001b[32m[I 2023-01-08 15:03:22,290]\u001b[0m Trial 62 finished with value: 0.589085107312888 and parameters: {'reg_lambda': 0.004494245776167478, 'reg_alpha': 0.0006658989605557358, 'feature_selector': 'cyclic'}. Best is trial 51 with value: 0.5892903927713706.\u001b[0m\n"
          ]
        },
        {
          "output_type": "stream",
          "name": "stdout",
          "text": [
            "Worst: 0.584156\n",
            "Average:0.589085\n"
          ]
        },
        {
          "output_type": "stream",
          "name": "stderr",
          "text": [
            "\u001b[32m[I 2023-01-08 15:03:26,917]\u001b[0m Trial 63 finished with value: 0.589077815967874 and parameters: {'reg_lambda': 0.0014970839539096923, 'reg_alpha': 9.923027370366307e-06, 'feature_selector': 'cyclic'}. Best is trial 51 with value: 0.5892903927713706.\u001b[0m\n"
          ]
        },
        {
          "output_type": "stream",
          "name": "stdout",
          "text": [
            "Worst: 0.583053\n",
            "Average:0.589078\n"
          ]
        },
        {
          "output_type": "stream",
          "name": "stderr",
          "text": [
            "\u001b[32m[I 2023-01-08 15:03:31,570]\u001b[0m Trial 64 finished with value: 0.5889247527809075 and parameters: {'reg_lambda': 0.05369728683385566, 'reg_alpha': 0.00020504821426128102, 'feature_selector': 'cyclic'}. Best is trial 51 with value: 0.5892903927713706.\u001b[0m\n"
          ]
        },
        {
          "output_type": "stream",
          "name": "stdout",
          "text": [
            "Worst: 0.584052\n",
            "Average:0.588925\n"
          ]
        },
        {
          "output_type": "stream",
          "name": "stderr",
          "text": [
            "\u001b[32m[I 2023-01-08 15:03:36,204]\u001b[0m Trial 65 finished with value: 0.589102878730075 and parameters: {'reg_lambda': 0.017187654585494618, 'reg_alpha': 3.0665096624593975e-06, 'feature_selector': 'shuffle'}. Best is trial 51 with value: 0.5892903927713706.\u001b[0m\n"
          ]
        },
        {
          "output_type": "stream",
          "name": "stdout",
          "text": [
            "Worst: 0.584101\n",
            "Average:0.589103\n"
          ]
        },
        {
          "output_type": "stream",
          "name": "stderr",
          "text": [
            "\u001b[32m[I 2023-01-08 15:03:40,802]\u001b[0m Trial 66 finished with value: 0.5883386338470828 and parameters: {'reg_lambda': 2.349353785574081, 'reg_alpha': 7.611274208493587e-07, 'feature_selector': 'cyclic'}. Best is trial 51 with value: 0.5892903927713706.\u001b[0m\n"
          ]
        },
        {
          "output_type": "stream",
          "name": "stdout",
          "text": [
            "Worst: 0.583868\n",
            "Average:0.588339\n"
          ]
        },
        {
          "output_type": "stream",
          "name": "stderr",
          "text": [
            "\u001b[32m[I 2023-01-08 15:03:45,419]\u001b[0m Trial 67 finished with value: 0.589286393784682 and parameters: {'reg_lambda': 0.004887803706843033, 'reg_alpha': 5.892489125218081e-05, 'feature_selector': 'cyclic'}. Best is trial 51 with value: 0.5892903927713706.\u001b[0m\n"
          ]
        },
        {
          "output_type": "stream",
          "name": "stdout",
          "text": [
            "Worst: 0.583983\n",
            "Average:0.589286\n"
          ]
        },
        {
          "output_type": "stream",
          "name": "stderr",
          "text": [
            "\u001b[32m[I 2023-01-08 15:03:50,137]\u001b[0m Trial 68 finished with value: 0.5888329622964004 and parameters: {'reg_lambda': 0.44081789978612435, 'reg_alpha': 0.0017256038942671812, 'feature_selector': 'shuffle'}. Best is trial 51 with value: 0.5892903927713706.\u001b[0m\n"
          ]
        },
        {
          "output_type": "stream",
          "name": "stdout",
          "text": [
            "Worst: 0.584278\n",
            "Average:0.588833\n"
          ]
        },
        {
          "output_type": "stream",
          "name": "stderr",
          "text": [
            "\u001b[32m[I 2023-01-08 15:03:54,852]\u001b[0m Trial 69 finished with value: 0.5886088496386107 and parameters: {'reg_lambda': 1.0602282189199313e-05, 'reg_alpha': 6.978318372384795e-05, 'feature_selector': 'cyclic'}. Best is trial 51 with value: 0.5892903927713706.\u001b[0m\n"
          ]
        },
        {
          "output_type": "stream",
          "name": "stdout",
          "text": [
            "Worst: 0.581949\n",
            "Average:0.588609\n"
          ]
        },
        {
          "output_type": "stream",
          "name": "stderr",
          "text": [
            "\u001b[32m[I 2023-01-08 15:03:59,561]\u001b[0m Trial 70 finished with value: 0.5889583341228782 and parameters: {'reg_lambda': 0.036383974302441696, 'reg_alpha': 4.07090115779328e-05, 'feature_selector': 'shuffle'}. Best is trial 51 with value: 0.5892903927713706.\u001b[0m\n"
          ]
        },
        {
          "output_type": "stream",
          "name": "stdout",
          "text": [
            "Worst: 0.584008\n",
            "Average:0.588958\n"
          ]
        },
        {
          "output_type": "stream",
          "name": "stderr",
          "text": [
            "\u001b[32m[I 2023-01-08 15:04:04,256]\u001b[0m Trial 71 finished with value: 0.5890674046457881 and parameters: {'reg_lambda': 0.0014313074425050115, 'reg_alpha': 1.3261803213777716e-05, 'feature_selector': 'cyclic'}. Best is trial 51 with value: 0.5892903927713706.\u001b[0m\n"
          ]
        },
        {
          "output_type": "stream",
          "name": "stdout",
          "text": [
            "Worst: 0.583023\n",
            "Average:0.589067\n"
          ]
        },
        {
          "output_type": "stream",
          "name": "stderr",
          "text": [
            "\u001b[32m[I 2023-01-08 15:04:08,919]\u001b[0m Trial 72 finished with value: 0.5892798083233995 and parameters: {'reg_lambda': 0.004893838979746418, 'reg_alpha': 0.00012898618804978236, 'feature_selector': 'cyclic'}. Best is trial 51 with value: 0.5892903927713706.\u001b[0m\n"
          ]
        },
        {
          "output_type": "stream",
          "name": "stdout",
          "text": [
            "Worst: 0.583998\n",
            "Average:0.58928\n"
          ]
        },
        {
          "output_type": "stream",
          "name": "stderr",
          "text": [
            "\u001b[32m[I 2023-01-08 15:04:13,659]\u001b[0m Trial 73 finished with value: 0.5888114419185305 and parameters: {'reg_lambda': 0.00028982268999766715, 'reg_alpha': 0.00013758379166507295, 'feature_selector': 'cyclic'}. Best is trial 51 with value: 0.5892903927713706.\u001b[0m\n"
          ]
        },
        {
          "output_type": "stream",
          "name": "stdout",
          "text": [
            "Worst: 0.582284\n",
            "Average:0.588811\n"
          ]
        },
        {
          "output_type": "stream",
          "name": "stderr",
          "text": [
            "\u001b[32m[I 2023-01-08 15:04:18,261]\u001b[0m Trial 74 finished with value: 0.589044357970835 and parameters: {'reg_lambda': 0.013727788769391751, 'reg_alpha': 0.0005920053910464441, 'feature_selector': 'cyclic'}. Best is trial 51 with value: 0.5892903927713706.\u001b[0m\n"
          ]
        },
        {
          "output_type": "stream",
          "name": "stdout",
          "text": [
            "Worst: 0.584099\n",
            "Average:0.589044\n"
          ]
        },
        {
          "output_type": "stream",
          "name": "stderr",
          "text": [
            "\u001b[32m[I 2023-01-08 15:04:22,837]\u001b[0m Trial 75 finished with value: 0.5892701876714568 and parameters: {'reg_lambda': 0.007615648111388406, 'reg_alpha': 5.867941211329724e-06, 'feature_selector': 'cyclic'}. Best is trial 51 with value: 0.5892903927713706.\u001b[0m\n"
          ]
        },
        {
          "output_type": "stream",
          "name": "stdout",
          "text": [
            "Worst: 0.58417\n",
            "Average:0.58927\n"
          ]
        },
        {
          "output_type": "stream",
          "name": "stderr",
          "text": [
            "\u001b[32m[I 2023-01-08 15:04:27,529]\u001b[0m Trial 76 finished with value: 0.588917789675887 and parameters: {'reg_lambda': 0.00011677841070148907, 'reg_alpha': 0.0003597374235094841, 'feature_selector': 'cyclic'}. Best is trial 51 with value: 0.5892903927713706.\u001b[0m\n"
          ]
        },
        {
          "output_type": "stream",
          "name": "stdout",
          "text": [
            "Worst: 0.582588\n",
            "Average:0.588918\n"
          ]
        },
        {
          "output_type": "stream",
          "name": "stderr",
          "text": [
            "\u001b[32m[I 2023-01-08 15:04:31,891]\u001b[0m Trial 77 finished with value: 0.5014898556780507 and parameters: {'reg_lambda': 0.13438156348423316, 'reg_alpha': 0.04459467887593891, 'feature_selector': 'cyclic'}. Best is trial 51 with value: 0.5892903927713706.\u001b[0m\n"
          ]
        },
        {
          "output_type": "stream",
          "name": "stdout",
          "text": [
            "Worst: 0.5\n",
            "Average:0.50149\n"
          ]
        },
        {
          "output_type": "stream",
          "name": "stderr",
          "text": [
            "\u001b[32m[I 2023-01-08 15:04:36,519]\u001b[0m Trial 78 finished with value: 0.5892878850812155 and parameters: {'reg_lambda': 0.005445578362538289, 'reg_alpha': 2.3219236418435677e-05, 'feature_selector': 'shuffle'}. Best is trial 51 with value: 0.5892903927713706.\u001b[0m\n"
          ]
        },
        {
          "output_type": "stream",
          "name": "stdout",
          "text": [
            "Worst: 0.584034\n",
            "Average:0.589288\n"
          ]
        },
        {
          "output_type": "stream",
          "name": "stderr",
          "text": [
            "\u001b[32m[I 2023-01-08 15:04:41,159]\u001b[0m Trial 79 finished with value: 0.5889548508490481 and parameters: {'reg_lambda': 0.000878691587274443, 'reg_alpha': 3.992677635047618e-05, 'feature_selector': 'shuffle'}. Best is trial 51 with value: 0.5892903927713706.\u001b[0m\n"
          ]
        },
        {
          "output_type": "stream",
          "name": "stdout",
          "text": [
            "Worst: 0.582671\n",
            "Average:0.588955\n"
          ]
        },
        {
          "output_type": "stream",
          "name": "stderr",
          "text": [
            "\u001b[32m[I 2023-01-08 15:04:45,809]\u001b[0m Trial 80 finished with value: 0.5890947971314967 and parameters: {'reg_lambda': 0.002036842620197679, 'reg_alpha': 0.001971043836815762, 'feature_selector': 'shuffle'}. Best is trial 51 with value: 0.5892903927713706.\u001b[0m\n"
          ]
        },
        {
          "output_type": "stream",
          "name": "stdout",
          "text": [
            "Worst: 0.584293\n",
            "Average:0.589095\n"
          ]
        },
        {
          "output_type": "stream",
          "name": "stderr",
          "text": [
            "\u001b[32m[I 2023-01-08 15:04:50,499]\u001b[0m Trial 81 finished with value: 0.5892808435584375 and parameters: {'reg_lambda': 0.0038913409674939236, 'reg_alpha': 1.836594315016331e-05, 'feature_selector': 'shuffle'}. Best is trial 51 with value: 0.5892903927713706.\u001b[0m\n"
          ]
        },
        {
          "output_type": "stream",
          "name": "stdout",
          "text": [
            "Worst: 0.583854\n",
            "Average:0.589281\n"
          ]
        },
        {
          "output_type": "stream",
          "name": "stderr",
          "text": [
            "\u001b[32m[I 2023-01-08 15:04:55,177]\u001b[0m Trial 82 finished with value: 0.5889519219867654 and parameters: {'reg_lambda': 0.0399547372392355, 'reg_alpha': 0.00014874858853938393, 'feature_selector': 'shuffle'}. Best is trial 51 with value: 0.5892903927713706.\u001b[0m\n"
          ]
        },
        {
          "output_type": "stream",
          "name": "stdout",
          "text": [
            "Worst: 0.584025\n",
            "Average:0.588952\n"
          ]
        },
        {
          "output_type": "stream",
          "name": "stderr",
          "text": [
            "\u001b[32m[I 2023-01-08 15:04:59,878]\u001b[0m Trial 83 finished with value: 0.5892876123198765 and parameters: {'reg_lambda': 0.004292736676720395, 'reg_alpha': 2.508942950249634e-05, 'feature_selector': 'shuffle'}. Best is trial 51 with value: 0.5892903927713706.\u001b[0m\n"
          ]
        },
        {
          "output_type": "stream",
          "name": "stdout",
          "text": [
            "Worst: 0.583915\n",
            "Average:0.589288\n"
          ]
        },
        {
          "output_type": "stream",
          "name": "stderr",
          "text": [
            "\u001b[32m[I 2023-01-08 15:05:04,536]\u001b[0m Trial 84 finished with value: 0.5890764844210867 and parameters: {'reg_lambda': 0.019151040908678335, 'reg_alpha': 4.628008422153243e-06, 'feature_selector': 'shuffle'}. Best is trial 51 with value: 0.5892903927713706.\u001b[0m\n"
          ]
        },
        {
          "output_type": "stream",
          "name": "stdout",
          "text": [
            "Worst: 0.584078\n",
            "Average:0.589076\n"
          ]
        },
        {
          "output_type": "stream",
          "name": "stderr",
          "text": [
            "\u001b[32m[I 2023-01-08 15:05:09,180]\u001b[0m Trial 85 finished with value: 0.5888035021656973 and parameters: {'reg_lambda': 0.0004632448665952982, 'reg_alpha': 2.825322658971286e-05, 'feature_selector': 'shuffle'}. Best is trial 51 with value: 0.5892903927713706.\u001b[0m\n"
          ]
        },
        {
          "output_type": "stream",
          "name": "stdout",
          "text": [
            "Worst: 0.582333\n",
            "Average:0.588804\n"
          ]
        },
        {
          "output_type": "stream",
          "name": "stderr",
          "text": [
            "\u001b[32m[I 2023-01-08 15:05:13,817]\u001b[0m Trial 86 finished with value: 0.5885929061039077 and parameters: {'reg_lambda': 5.924750616145545e-07, 'reg_alpha': 5.4929424136938606e-05, 'feature_selector': 'shuffle'}. Best is trial 51 with value: 0.5892903927713706.\u001b[0m\n"
          ]
        },
        {
          "output_type": "stream",
          "name": "stdout",
          "text": [
            "Worst: 0.581928\n",
            "Average:0.588593\n"
          ]
        },
        {
          "output_type": "stream",
          "name": "stderr",
          "text": [
            "\u001b[32m[I 2023-01-08 15:05:18,425]\u001b[0m Trial 87 finished with value: 0.5891611884916952 and parameters: {'reg_lambda': 0.012949358932953545, 'reg_alpha': 1.3307052202000693e-06, 'feature_selector': 'shuffle'}. Best is trial 51 with value: 0.5892903927713706.\u001b[0m\n"
          ]
        },
        {
          "output_type": "stream",
          "name": "stdout",
          "text": [
            "Worst: 0.584132\n",
            "Average:0.589161\n"
          ]
        },
        {
          "output_type": "stream",
          "name": "stderr",
          "text": [
            "\u001b[32m[I 2023-01-08 15:05:23,092]\u001b[0m Trial 88 finished with value: 0.5892845848044744 and parameters: {'reg_lambda': 0.006349371588587479, 'reg_alpha': 9.648685165229833e-06, 'feature_selector': 'shuffle'}. Best is trial 51 with value: 0.5892903927713706.\u001b[0m\n"
          ]
        },
        {
          "output_type": "stream",
          "name": "stdout",
          "text": [
            "Worst: 0.584114\n",
            "Average:0.589285\n"
          ]
        },
        {
          "output_type": "stream",
          "name": "stderr",
          "text": [
            "\u001b[32m[I 2023-01-08 15:05:27,680]\u001b[0m Trial 89 finished with value: 0.5888562545361424 and parameters: {'reg_lambda': 0.07039906339701499, 'reg_alpha': 9.756215583188602e-06, 'feature_selector': 'shuffle'}. Best is trial 51 with value: 0.5892903927713706.\u001b[0m\n"
          ]
        },
        {
          "output_type": "stream",
          "name": "stdout",
          "text": [
            "Worst: 0.584015\n",
            "Average:0.588856\n"
          ]
        },
        {
          "output_type": "stream",
          "name": "stderr",
          "text": [
            "\u001b[32m[I 2023-01-08 15:05:32,321]\u001b[0m Trial 90 finished with value: 0.5890130017006345 and parameters: {'reg_lambda': 0.001185220147950092, 'reg_alpha': 5.392343437850805e-07, 'feature_selector': 'shuffle'}. Best is trial 51 with value: 0.5892903927713706.\u001b[0m\n"
          ]
        },
        {
          "output_type": "stream",
          "name": "stdout",
          "text": [
            "Worst: 0.582851\n",
            "Average:0.589013\n"
          ]
        },
        {
          "output_type": "stream",
          "name": "stderr",
          "text": [
            "\u001b[32m[I 2023-01-08 15:05:36,899]\u001b[0m Trial 91 finished with value: 0.5892891616350805 and parameters: {'reg_lambda': 0.005396789590458985, 'reg_alpha': 2.1312950831965455e-05, 'feature_selector': 'shuffle'}. Best is trial 51 with value: 0.5892903927713706.\u001b[0m\n"
          ]
        },
        {
          "output_type": "stream",
          "name": "stdout",
          "text": [
            "Worst: 0.584029\n",
            "Average:0.589289\n"
          ]
        },
        {
          "output_type": "stream",
          "name": "stderr",
          "text": [
            "\u001b[32m[I 2023-01-08 15:05:41,504]\u001b[0m Trial 92 finished with value: 0.589246702766551 and parameters: {'reg_lambda': 0.0030841921926054836, 'reg_alpha': 2.3066479236695422e-06, 'feature_selector': 'shuffle'}. Best is trial 51 with value: 0.5892903927713706.\u001b[0m\n"
          ]
        },
        {
          "output_type": "stream",
          "name": "stdout",
          "text": [
            "Worst: 0.583655\n",
            "Average:0.589247\n"
          ]
        },
        {
          "output_type": "stream",
          "name": "stderr",
          "text": [
            "\u001b[32m[I 2023-01-08 15:05:46,113]\u001b[0m Trial 93 finished with value: 0.5891659305816284 and parameters: {'reg_lambda': 0.002105854499541968, 'reg_alpha': 1.9528237029164708e-05, 'feature_selector': 'shuffle'}. Best is trial 51 with value: 0.5892903927713706.\u001b[0m\n"
          ]
        },
        {
          "output_type": "stream",
          "name": "stdout",
          "text": [
            "Worst: 0.583321\n",
            "Average:0.589166\n"
          ]
        },
        {
          "output_type": "stream",
          "name": "stderr",
          "text": [
            "\u001b[32m[I 2023-01-08 15:05:50,816]\u001b[0m Trial 94 finished with value: 0.5892220749086142 and parameters: {'reg_lambda': 0.009847942435733397, 'reg_alpha': 4.241074438125943e-06, 'feature_selector': 'shuffle'}. Best is trial 51 with value: 0.5892903927713706.\u001b[0m\n"
          ]
        },
        {
          "output_type": "stream",
          "name": "stdout",
          "text": [
            "Worst: 0.584165\n",
            "Average:0.589222\n"
          ]
        },
        {
          "output_type": "stream",
          "name": "stderr",
          "text": [
            "\u001b[32m[I 2023-01-08 15:05:55,677]\u001b[0m Trial 95 finished with value: 0.5890243288644817 and parameters: {'reg_lambda': 0.025227155986643733, 'reg_alpha': 1.2143944457242987e-05, 'feature_selector': 'shuffle'}. Best is trial 51 with value: 0.5892903927713706.\u001b[0m\n"
          ]
        },
        {
          "output_type": "stream",
          "name": "stdout",
          "text": [
            "Worst: 0.584029\n",
            "Average:0.589024\n"
          ]
        },
        {
          "output_type": "stream",
          "name": "stderr",
          "text": [
            "\u001b[32m[I 2023-01-08 15:06:01,767]\u001b[0m Trial 96 finished with value: 0.5888358786986225 and parameters: {'reg_lambda': 0.0005875271413194786, 'reg_alpha': 6.994183665730255e-06, 'feature_selector': 'shuffle'}. Best is trial 51 with value: 0.5892903927713706.\u001b[0m\n"
          ]
        },
        {
          "output_type": "stream",
          "name": "stdout",
          "text": [
            "Worst: 0.582409\n",
            "Average:0.588836\n"
          ]
        },
        {
          "output_type": "stream",
          "name": "stderr",
          "text": [
            "\u001b[32m[I 2023-01-08 15:06:06,433]\u001b[0m Trial 97 finished with value: 0.589284486032959 and parameters: {'reg_lambda': 0.00479735218994098, 'reg_alpha': 6.31328606020659e-05, 'feature_selector': 'shuffle'}. Best is trial 51 with value: 0.5892903927713706.\u001b[0m\n"
          ]
        },
        {
          "output_type": "stream",
          "name": "stdout",
          "text": [
            "Worst: 0.583968\n",
            "Average:0.589284\n"
          ]
        },
        {
          "output_type": "stream",
          "name": "stderr",
          "text": [
            "\u001b[32m[I 2023-01-08 15:06:11,150]\u001b[0m Trial 98 finished with value: 0.5892345627789359 and parameters: {'reg_lambda': 0.005920594409961759, 'reg_alpha': 0.0002974337042895817, 'feature_selector': 'shuffle'}. Best is trial 51 with value: 0.5892903927713706.\u001b[0m\n"
          ]
        },
        {
          "output_type": "stream",
          "name": "stdout",
          "text": [
            "Worst: 0.584105\n",
            "Average:0.589235\n"
          ]
        },
        {
          "output_type": "stream",
          "name": "stderr",
          "text": [
            "\u001b[32m[I 2023-01-08 15:06:15,841]\u001b[0m Trial 99 finished with value: 0.5890130907505325 and parameters: {'reg_lambda': 0.0010758921063307816, 'reg_alpha': 5.338918219482402e-05, 'feature_selector': 'shuffle'}. Best is trial 51 with value: 0.5892903927713706.\u001b[0m\n"
          ]
        },
        {
          "output_type": "stream",
          "name": "stdout",
          "text": [
            "Worst: 0.582815\n",
            "Average:0.589013\n"
          ]
        }
      ]
    },
    {
      "cell_type": "code",
      "source": [
        "print(\"Best Parameters:\", study.best_params)"
      ],
      "metadata": {
        "execution": {
          "iopub.status.busy": "2023-01-07T11:33:56.290016Z",
          "iopub.execute_input": "2023-01-07T11:33:56.290318Z",
          "iopub.status.idle": "2023-01-07T11:33:56.296581Z",
          "shell.execute_reply.started": "2023-01-07T11:33:56.290291Z",
          "shell.execute_reply": "2023-01-07T11:33:56.295233Z"
        },
        "trusted": true,
        "colab": {
          "base_uri": "https://localhost:8080/"
        },
        "id": "XvtsB8u1Dggb",
        "outputId": "6b275830-f18e-447f-83e9-5864a0382701"
      },
      "execution_count": null,
      "outputs": [
        {
          "output_type": "stream",
          "name": "stdout",
          "text": [
            "Best Parameters: {'reg_lambda': 0.004326989753682215, 'reg_alpha': 3.0800540492811244e-07, 'feature_selector': 'cyclic'}\n"
          ]
        }
      ]
    },
    {
      "cell_type": "code",
      "source": [
        "Score(XGBClassifier(**default_params, **study.best_params),1)"
      ],
      "metadata": {
        "colab": {
          "base_uri": "https://localhost:8080/"
        },
        "id": "lhJF1GCqM_8F",
        "outputId": "945975f2-dad1-458f-cd90-c37a4682dab1"
      },
      "execution_count": null,
      "outputs": [
        {
          "output_type": "stream",
          "name": "stdout",
          "text": [
            "Worst: 0.583927\n",
            "Average:0.58929\n"
          ]
        },
        {
          "output_type": "execute_result",
          "data": {
            "text/plain": [
              "\"model=Score(XGBClassifier(**default_params, **study.best_params))[1]\\njoblib.dump(model,'model.pkl')\\ntest_preds = np.zeros((test.shape[0],)) \\ntest_preds += model.predict_proba(test[features])[:, 1] / len(SPLITS)\\nprint(test_preds)\""
            ],
            "application/vnd.google.colaboratory.intrinsic+json": {
              "type": "string"
            }
          },
          "metadata": {},
          "execution_count": 258
        }
      ]
    }
  ]
}